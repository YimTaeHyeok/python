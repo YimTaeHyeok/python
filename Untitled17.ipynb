{
  "nbformat": 4,
  "nbformat_minor": 0,
  "metadata": {
    "colab": {
      "private_outputs": true,
      "provenance": [],
      "authorship_tag": "ABX9TyORjFf2W4Gz0J2BMpiuTUta",
      "include_colab_link": true
    },
    "kernelspec": {
      "name": "python3",
      "display_name": "Python 3"
    },
    "language_info": {
      "name": "python"
    }
  },
  "cells": [
    {
      "cell_type": "markdown",
      "metadata": {
        "id": "view-in-github",
        "colab_type": "text"
      },
      "source": [
        "<a href=\"https://colab.research.google.com/github/YimTaeHyeok/python/blob/main/Untitled17.ipynb\" target=\"_parent\"><img src=\"https://colab.research.google.com/assets/colab-badge.svg\" alt=\"Open In Colab\"/></a>"
      ]
    },
    {
      "cell_type": "code",
      "execution_count": null,
      "metadata": {
        "id": "7Eq-yFN0tSP6"
      },
      "outputs": [],
      "source": [
        "!git clone https://github.com/Bigtuo/YOLOv7-Pose-Bytetrack-STGCN.git\n",
        "%cd YOLOv7-Pose-Bytetrack-STGCN"
      ]
    },
    {
      "cell_type": "code",
      "source": [
        "!pip install matplotlib numpy opencv-python Pillow pyyaml scipy tqdm seaborn pandas"
      ],
      "metadata": {
        "id": "ThuB-sPEtZYP"
      },
      "execution_count": null,
      "outputs": []
    },
    {
      "cell_type": "code",
      "source": [
        "!wget https://github.com/WongKinYiu/yolov7/releases/download/v0.1/yolov7-w6-pose.pt"
      ],
      "metadata": {
        "id": "q96Dz0uWtc0r"
      },
      "execution_count": null,
      "outputs": []
    },
    {
      "cell_type": "code",
      "source": [
        "!python detect.py --weights yolov7-w6-pose.pt --source /content/soccer1.mp4 --kpt-label"
      ],
      "metadata": {
        "id": "RNdU8OZ9uoH3"
      },
      "execution_count": null,
      "outputs": []
    },
    {
      "cell_type": "code",
      "source": [
        "!ls -lh /content/soccer1_result.mp4"
      ],
      "metadata": {
        "id": "NZ9mbY4GuvDP"
      },
      "execution_count": null,
      "outputs": []
    }
  ]
}
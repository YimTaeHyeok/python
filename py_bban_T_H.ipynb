{
  "nbformat": 4,
  "nbformat_minor": 0,
  "metadata": {
    "colab": {
      "provenance": [],
      "authorship_tag": "ABX9TyP8C288u3RbbQ/SEeOHCBH3",
      "include_colab_link": true
    },
    "kernelspec": {
      "name": "python3",
      "display_name": "Python 3"
    },
    "language_info": {
      "name": "python"
    }
  },
  "cells": [
    {
      "cell_type": "markdown",
      "metadata": {
        "id": "view-in-github",
        "colab_type": "text"
      },
      "source": [
        "<a href=\"https://colab.research.google.com/github/YimTaeHyeok/python/blob/main/py_bban_T_H.ipynb\" target=\"_parent\"><img src=\"https://colab.research.google.com/assets/colab-badge.svg\" alt=\"Open In Colab\"/></a>"
      ]
    },
    {
      "cell_type": "markdown",
      "source": [
        "# CH1 파이썬 문법"
      ],
      "metadata": {
        "id": "an_78htvn-MO"
      }
    },
    {
      "cell_type": "markdown",
      "source": [
        "```\n",
        "# 코드로 형식 지정됨\n",
        "```\n",
        "\n",
        "## 자료형\n",
        "#### 숫자형\n",
        "* 정수 : 123, -20, 0\n",
        "* 실수 : 123.45, -4321.5, 6.08e9\n",
        "* 8진수 : 0o456, 0o123\n",
        "* 16진수 : 0xFF, 0x0D, 0x0A"
      ],
      "metadata": {
        "id": "xEvxlxqIoKF4"
      }
    },
    {
      "cell_type": "markdown",
      "source": [
        "#### 변수\n",
        "* 문자 또는 밑줄로 시작(beta, _kim)\n",
        "* 대소문자를 구분(sum, Sum, SUM)\n",
        "* 영문자, 숫자, 밑줄(A-z, 0-9, _)\n",
        "* 파이썬 키워드는 사용 불가"
      ],
      "metadata": {
        "id": "fdxWz5nOoR5I"
      }
    },
    {
      "cell_type": "code",
      "source": [
        "a = 10\n",
        "b = 20\n",
        "c = a + b\n",
        "d = b - a\n",
        "print(c, d)"
      ],
      "metadata": {
        "colab": {
          "base_uri": "https://localhost:8080/"
        },
        "id": "wMZ-Y0ObodD2",
        "outputId": "8b5363b5-6c10-4528-fe32-630566611387"
      },
      "execution_count": 2,
      "outputs": [
        {
          "output_type": "stream",
          "name": "stdout",
          "text": [
            "30 10\n"
          ]
        }
      ]
    },
    {
      "cell_type": "code",
      "source": [
        "a = 10\n",
        "b = 2\n",
        "# 나눗셈\n",
        "c = a/b # 나눗셈\n",
        "d = a//b # 몫\n",
        "e = a%b # 나머지\n",
        "# 곱셈\n",
        "f = a*b\n",
        "g = a**b # 제곱\n",
        "print(c,d,e,f,g)"
      ],
      "metadata": {
        "colab": {
          "base_uri": "https://localhost:8080/"
        },
        "id": "gJxdtlZ6ogdo",
        "outputId": "daa09211-00d2-4b22-f5be-752a6e4a3707"
      },
      "execution_count": null,
      "outputs": [
        {
          "output_type": "stream",
          "name": "stdout",
          "text": [
            "5.0 5 0 20 100\n"
          ]
        }
      ]
    },
    {
      "cell_type": "markdown",
      "source": [
        "#### 문자열\n",
        "1. 큰 따옴표 : \"Hello World! it\\'s\"\n",
        "2. 작은 따옴표 : '대한민국'\n",
        "3. 큰 따옴표 3 : \"\"\"Hello!\"\"\"\n",
        "4. 작은 따옴표 3 :\n",
        "'''Life is too short. You need python'''"
      ],
      "metadata": {
        "id": "NdX-Rmc_okaJ"
      }
    },
    {
      "cell_type": "markdown",
      "source": [
        "#### 여러개 변수 할당"
      ],
      "metadata": {
        "id": "B0tZRvVtr2K6"
      }
    },
    {
      "cell_type": "code",
      "source": [
        "x,y,z = \"포도\",\"딸기\",\"수박\"\n",
        "print(x)\n",
        "print(y)\n",
        "print(z)"
      ],
      "metadata": {
        "id": "AzwX3a37r5QJ",
        "colab": {
          "base_uri": "https://localhost:8080/"
        },
        "outputId": "2c1e56ed-b1b4-4fdc-c265-804699b0774d"
      },
      "execution_count": null,
      "outputs": [
        {
          "output_type": "stream",
          "name": "stdout",
          "text": [
            "포도\n",
            "딸기\n",
            "수박\n"
          ]
        }
      ]
    },
    {
      "cell_type": "code",
      "source": [
        "a = b = c = \"오렌지\"\n",
        "print(a)\n",
        "print(b)\n",
        "print(c)"
      ],
      "metadata": {
        "id": "DawJCMztr5-J",
        "colab": {
          "base_uri": "https://localhost:8080/"
        },
        "outputId": "c7b24249-4ad1-40b4-c4d7-6163a5a070c6"
      },
      "execution_count": null,
      "outputs": [
        {
          "output_type": "stream",
          "name": "stdout",
          "text": [
            "오렌지\n",
            "오렌지\n",
            "오렌지\n"
          ]
        }
      ]
    },
    {
      "cell_type": "code",
      "source": [
        "fruits = [\"포도\",\"딸기\",\"수박\"]\n",
        "x,y,z = fruits\n",
        "print(y)\n",
        "print(z)\n",
        "print(x)"
      ],
      "metadata": {
        "id": "_YzG9ZvVr8WZ",
        "colab": {
          "base_uri": "https://localhost:8080/"
        },
        "outputId": "5240556f-3ecc-4ec3-a60d-8c63caf3e8fd"
      },
      "execution_count": null,
      "outputs": [
        {
          "output_type": "stream",
          "name": "stdout",
          "text": [
            "딸기\n",
            "수박\n",
            "포도\n"
          ]
        }
      ]
    },
    {
      "cell_type": "code",
      "source": [
        "x = \"Life\"\n",
        "y = \"is\"\n",
        "z = \"Beautiful\"\n",
        "print(x,y,z)\n",
        "print(x+y+z)"
      ],
      "metadata": {
        "id": "JAbqqbORr_QD",
        "colab": {
          "base_uri": "https://localhost:8080/"
        },
        "outputId": "fb210591-4b1b-4e55-9c7b-168abb5583e3"
      },
      "execution_count": null,
      "outputs": [
        {
          "output_type": "stream",
          "name": "stdout",
          "text": [
            "Life is Beautiful\n",
            "LifeisBeautiful\n"
          ]
        }
      ]
    },
    {
      "cell_type": "code",
      "source": [
        "a = 1\n",
        "b = 2\n",
        "c = 3 # \"\"을 넣으면 str이 된다. 따라서 print(a+b+c)에서 오류가 난다.\n",
        "print(a,b,c)\n",
        "print(a+b+c)"
      ],
      "metadata": {
        "id": "4lwdRjZSsATS",
        "colab": {
          "base_uri": "https://localhost:8080/"
        },
        "outputId": "4ebf8839-8311-4c29-80fd-beba5e933220"
      },
      "execution_count": null,
      "outputs": [
        {
          "output_type": "stream",
          "name": "stdout",
          "text": [
            "1 2 3\n",
            "6\n"
          ]
        }
      ]
    },
    {
      "cell_type": "markdown",
      "source": [
        "#### 데이터 유형\n",
        "+ 텍스트\n",
        "+ 숫자\n",
        "+ 불(bool)"
      ],
      "metadata": {
        "id": "5_MWeUJMsBo8"
      }
    },
    {
      "cell_type": "code",
      "source": [
        "a = 100\n",
        "b = 200\n",
        "result = a + b\n",
        "print(a, \"+\", b, \"=\", result)\n",
        "result = a - b\n",
        "print(a, \"-\", b, \"=\", result)\n",
        "result = a * b\n",
        "print(a, \"*\", b, \"=\", result)\n",
        "result = a / b\n",
        "print(a, \"/\", b, \"=\", result)"
      ],
      "metadata": {
        "colab": {
          "base_uri": "https://localhost:8080/"
        },
        "id": "unf8Ngtxsh53",
        "outputId": "2ca73cb0-4659-4449-bd02-ba11733cc1e2"
      },
      "execution_count": 3,
      "outputs": [
        {
          "output_type": "stream",
          "name": "stdout",
          "text": [
            "100 + 200 = 300\n",
            "100 - 200 = -100\n",
            "100 * 200 = 20000\n",
            "100 / 200 = 0.5\n"
          ]
        }
      ]
    },
    {
      "cell_type": "markdown",
      "source": [
        "#### input() 함수를 이용한 계산기"
      ],
      "metadata": {
        "id": "cB6bnyo2skGI"
      }
    },
    {
      "cell_type": "code",
      "source": [
        "a = int(input(\"첫번째 숫자를 입력하세요 : \"))\n",
        "b = int(input(\"두번째 숫자를 입력하세요 : \"))\n",
        "result = a + b\n",
        "print(a, \"+\", b, \"=\", result)\n",
        "result = a - b\n",
        "print(a, \"-\", b, \"=\", result)\n",
        "result = a * b\n",
        "print(a, \"*\", b, \"=\", result)\n",
        "result = a / b\n",
        "print(a, \"/\", b, \"=\", result)\n",
        "result = a ** b\n",
        "print(a, \"**\",b, \"=\", result)\n",
        "result = a // b\n",
        "print(a, \"//\", b, \"=\", result)\n",
        "result = a % b\n",
        "print(a, \"%\", b, \"=\", result)"
      ],
      "metadata": {
        "colab": {
          "base_uri": "https://localhost:8080/"
        },
        "id": "uV7NmLZRslYY",
        "outputId": "95a1a939-fa12-4129-d1c8-99995f63d251"
      },
      "execution_count": null,
      "outputs": [
        {
          "output_type": "stream",
          "name": "stdout",
          "text": [
            "첫번째 숫자를 입력하세요 : 1\n",
            "두번째 숫자를 입력하세요 : 2\n",
            "1 + 2 = 3\n",
            "1 - 2 = -1\n",
            "1 * 2 = 2\n",
            "1 / 2 = 0.5\n",
            "1 ** 2 = 1\n",
            "1 // 2 = 0\n",
            "1 % 2 = 1\n"
          ]
        }
      ]
    },
    {
      "cell_type": "code",
      "source": [
        "num1 = input(\"숫자입력1 : \")\n",
        "num2 = input(\"숫자입력2 : \")\n",
        "result = num1 + num2\n",
        "print(type(num1))\n",
        "print(num1, \"+\", num2, \"=\", result) # str이므로 100200 이런식으로 나온다"
      ],
      "metadata": {
        "colab": {
          "base_uri": "https://localhost:8080/"
        },
        "id": "E-u_va5Ism7q",
        "outputId": "8659c049-280d-4ed0-dd5b-9f4234c7f70e"
      },
      "execution_count": null,
      "outputs": [
        {
          "output_type": "stream",
          "name": "stdout",
          "text": [
            "숫자입력1 : 123\n",
            "숫자입력2 : 213\n",
            "<class 'str'>\n",
            "123 + 213 = 123213\n"
          ]
        }
      ]
    },
    {
      "cell_type": "markdown",
      "source": [
        "quiz :\n",
        "전화번호, 이름을 입력받아 출력  \n",
        "입력한 내용은 이름 \"00\", 전화번호 \"00\"입니다.\n",
        "무게는 입력한 g수 X 10원 = 산출 금액 출력"
      ],
      "metadata": {
        "id": "Zx4rtVCDsocs"
      }
    },
    {
      "cell_type": "code",
      "source": [
        "num1 = input(\"이름 : \")\n",
        "num2 = input(\"전화번호 : \")\n",
        "num3 = int(input(\"g수 : \"))\n",
        "result = num3 * 10\n",
        "print(type(num3))\n",
        "print(\"입력한 내용은 이름 :\", num1,\",\", \"전화번호 :\", num2,\"입니다.\")\n",
        "print(\"금액 :\", result, \"원\")"
      ],
      "metadata": {
        "colab": {
          "base_uri": "https://localhost:8080/"
        },
        "id": "BHZSGo0hsp5B",
        "outputId": "49baf159-55ca-4ef5-ad7d-e0d55372b163"
      },
      "execution_count": null,
      "outputs": [
        {
          "output_type": "stream",
          "name": "stdout",
          "text": [
            "이름 : 1\n",
            "전화번호 : 2\n",
            "g수 : 3\n",
            "<class 'int'>\n",
            "입력한 내용은 이름 : 1 , 전화번호 : 2 입니다.\n",
            "금액 : 30 원\n"
          ]
        }
      ]
    },
    {
      "cell_type": "markdown",
      "source": [
        "# 2.print() int 서식 출력"
      ],
      "metadata": {
        "id": "-e_xVHw_il0e"
      }
    },
    {
      "cell_type": "code",
      "source": [
        "print(\"%d\" % 123)\n",
        "print(\"%5d\" % 123)\n",
        "print(\"%05d\" % 123)\n",
        "\n",
        "print(\"%f\" % 123.45)\n",
        "print(\"%7.1f\" % 123.45)\n",
        "print(\"%7.3f\" % 123.45)\n",
        "\n",
        "print(\"%s\" %  \"대한민국\")\n",
        "print(\"%8s\" % \"대한민국\")\n"
      ],
      "metadata": {
        "colab": {
          "base_uri": "https://localhost:8080/"
        },
        "id": "dgkSnX3fixVv",
        "outputId": "371f7dac-d3d8-4392-ce27-c3d8b27d520a"
      },
      "execution_count": null,
      "outputs": [
        {
          "output_type": "stream",
          "name": "stdout",
          "text": [
            "123\n",
            "  123\n",
            "00123\n",
            "123.450000\n",
            "  123.5\n",
            "123.450\n",
            "대한민국\n",
            "    대한민국\n"
          ]
        }
      ]
    },
    {
      "cell_type": "markdown",
      "source": [
        "Format 함수 : 순서 지정 가능"
      ],
      "metadata": {
        "id": "6JUeoJ0-kvFm"
      }
    },
    {
      "cell_type": "code",
      "source": [
        "print (\"{0:d} {1:5d} {2:05d}\".format (123,456,789))"
      ],
      "metadata": {
        "colab": {
          "base_uri": "https://localhost:8080/"
        },
        "id": "fviC18wOkhFm",
        "outputId": "2d14935c-a9ea-4d93-88f1-c8f332f54033"
      },
      "execution_count": null,
      "outputs": [
        {
          "output_type": "stream",
          "name": "stdout",
          "text": [
            "123   456 00789\n"
          ]
        }
      ]
    },
    {
      "cell_type": "code",
      "source": [
        "print (\"{2:d} {1:5d} {0:05d}\".format (123,456,789))"
      ],
      "metadata": {
        "colab": {
          "base_uri": "https://localhost:8080/"
        },
        "id": "7D5cATOxlIDM",
        "outputId": "469a5cbc-72c4-4044-deb4-09eae29e0436"
      },
      "execution_count": null,
      "outputs": [
        {
          "output_type": "stream",
          "name": "stdout",
          "text": [
            "789   456 00123\n"
          ]
        }
      ]
    },
    {
      "cell_type": "code",
      "source": [
        "print(\"줄바꿈\\n연습입니다.\\n\")"
      ],
      "metadata": {
        "colab": {
          "base_uri": "https://localhost:8080/"
        },
        "id": "7QVZf78blWpy",
        "outputId": "73832750-611b-4023-ab36-d1abeebd4728"
      },
      "execution_count": null,
      "outputs": [
        {
          "output_type": "stream",
          "name": "stdout",
          "text": [
            "줄바꿈\n",
            "연습입니다.\n",
            "\n"
          ]
        }
      ]
    },
    {
      "cell_type": "code",
      "source": [
        "print(\"\\t탭키\\t연습.\")"
      ],
      "metadata": {
        "colab": {
          "base_uri": "https://localhost:8080/"
        },
        "id": "TwVgIWnzlY6h",
        "outputId": "0b4ed6ad-c66d-4e03-9629-68e9e11438d4"
      },
      "execution_count": null,
      "outputs": [
        {
          "output_type": "stream",
          "name": "stdout",
          "text": [
            "\t탭키\t연습.\n"
          ]
        }
      ]
    },
    {
      "cell_type": "code",
      "source": [
        "print(\"글자가 \\\"강조되는\\\" 효과1\")\n",
        "print(\"글자가 \\'강조되는\\' 효과2\")\n",
        "print(\"역슬래시 3개출력 \\\\\\\\\\\\\")\n",
        "print(r\"\\n \\t \\\" \\\\를 그대로 출력\") #문자열 그대로 작성하기 위해선 (r\"~~\")이런식으로 작성해야함."
      ],
      "metadata": {
        "colab": {
          "base_uri": "https://localhost:8080/"
        },
        "id": "kOKO3Pp-lguR",
        "outputId": "e0e0e2e5-8e17-47f8-ee3d-3fda9eb9a266"
      },
      "execution_count": null,
      "outputs": [
        {
          "output_type": "stream",
          "name": "stdout",
          "text": [
            "글자가 \"강조되는\" 효과1\n",
            "글자가 '강조되는' 효과2\n",
            "역슬래시 3개출력 \\\\\\\n",
            "\\n \\t \\\" \\\\를 그대로 출력\n"
          ]
        }
      ]
    },
    {
      "cell_type": "markdown",
      "source": [
        "관계연산자"
      ],
      "metadata": {
        "id": "O-NtpTSkoprB"
      }
    },
    {
      "cell_type": "code",
      "source": [
        "a,b = 10,20\n",
        "print(a==b, a!=b, a>b, a<b, a>=b, a<=b)"
      ],
      "metadata": {
        "colab": {
          "base_uri": "https://localhost:8080/"
        },
        "id": "MlqHV3IPorPR",
        "outputId": "c41e38c8-c01c-40f7-8648-be7d2a63968d"
      },
      "execution_count": null,
      "outputs": [
        {
          "output_type": "stream",
          "name": "stdout",
          "text": [
            "False True False True False True\n"
          ]
        }
      ]
    },
    {
      "cell_type": "markdown",
      "source": [
        "논리연산자"
      ],
      "metadata": {
        "id": "RYxE5hEmpAUB"
      }
    },
    {
      "cell_type": "code",
      "source": [
        "a = 99\n",
        "print((a>100) and(a<200))\n",
        "print((a>100) or(a<200))\n",
        "print(not(a==100))"
      ],
      "metadata": {
        "colab": {
          "base_uri": "https://localhost:8080/"
        },
        "id": "Hxq7lmpGpE1M",
        "outputId": "cd89ebaa-552e-4350-8b93-ce08e1f0029d"
      },
      "execution_count": null,
      "outputs": [
        {
          "output_type": "stream",
          "name": "stdout",
          "text": [
            "False\n",
            "True\n",
            "True\n"
          ]
        }
      ]
    },
    {
      "cell_type": "code",
      "source": [
        "if(123):\n",
        "  print(\"참이면 보입니다.\")\n",
        "if(0):  \n",
        "  print(\"거짓이면 안 보입니다.\") #if문을 사용할 때에 탭키를 누르고 다음으로 넘어간다.\n"
      ],
      "metadata": {
        "colab": {
          "base_uri": "https://localhost:8080/"
        },
        "id": "vrRPa6NDph1N",
        "outputId": "e96d9f06-eb25-4a15-8a88-ec015c9eebe6"
      },
      "execution_count": null,
      "outputs": [
        {
          "output_type": "stream",
          "name": "stdout",
          "text": [
            "참이면 보입니다.\n"
          ]
        }
      ]
    },
    {
      "cell_type": "markdown",
      "source": [
        "###퀴즈2 숫자 입력을 받아 동전으로 바꿔주는 프로그램( 500원, 100원, 50원, 10원) 나머지는 거스름 돈으로 출력"
      ],
      "metadata": {
        "id": "RxJr74Epvpkp"
      }
    },
    {
      "cell_type": "code",
      "source": [
        " # 변수\n",
        "bill, c500, c100, c50 ,c10 = 0,0,0,0,0\n",
        "bill = int(input(\"바꿀돈은?\"))\n",
        "c500 = bill // 500 #몫을 구한다.\n",
        "bill %= 500 # bill = bill % 500 \n",
        "c100 = bill // 100 \n",
        "bill %= 100 \n",
        "c50= bill // 50\n",
        "bill %= 50\n",
        "c10= bill // 10\n",
        "bill %= 10\n",
        "print(\"500원짜리 %d개\" % c500)\n",
        "print(\"100원짜리 %d개\" % c100)\n",
        "print(\"50원짜리 %d개\" % c50)\n",
        "print(\"10원짜리 %d개\" % c10)\n",
        "print(\"잔돈 %d원\" % bill)\n",
        "#몫과 나머지를 나누고 데이터를 저장. 데이터를 또 나누고 저장을 반복해 나눈다."
      ],
      "metadata": {
        "colab": {
          "base_uri": "https://localhost:8080/"
        },
        "id": "XGZIhjKEwWGV",
        "outputId": "1dc71f2e-4ef3-48ad-c93b-c2dab0495cab"
      },
      "execution_count": null,
      "outputs": [
        {
          "output_type": "stream",
          "name": "stdout",
          "text": [
            "바꿀돈은?34870\n",
            "500원짜리 69개\n",
            "100원짜리 3개\n",
            "50원짜리 1개\n",
            "10원짜리 2개\n",
            "잔돈 0원\n"
          ]
        }
      ]
    },
    {
      "cell_type": "markdown",
      "source": [
        "## 조건문"
      ],
      "metadata": {
        "id": "hlpQhxWb1Dx2"
      }
    },
    {
      "cell_type": "code",
      "source": [
        "a = 150\n",
        "if (a<100) :\n",
        "  print(\"100보다 작음\")\n",
        "else : \n",
        "  print(\"100보다 큼.\")\n",
        "print(\"프로그램 끝\")"
      ],
      "metadata": {
        "colab": {
          "base_uri": "https://localhost:8080/"
        },
        "id": "SQkZ1dOJ1J5-",
        "outputId": "bc80ed76-49b0-4133-9518-76048932e39a"
      },
      "execution_count": null,
      "outputs": [
        {
          "output_type": "stream",
          "name": "stdout",
          "text": [
            "100보다 큼.\n",
            "프로그램 끝\n"
          ]
        }
      ]
    },
    {
      "cell_type": "code",
      "source": [
        "# 홀짝  구분\n",
        "a = int(input(\"정수를 입력하세요 : \"))\n",
        "if(a % 2 == 0):  # a값을 2로 나누는 프로그램 (홀짝을 구할수 있음.)\n",
        "  print(\"짝수\")\n",
        "else : \n",
        "  print(\"홀수\")"
      ],
      "metadata": {
        "colab": {
          "base_uri": "https://localhost:8080/"
        },
        "id": "CAYxHq3p2EZ5",
        "outputId": "e4fcca77-7b31-4d58-a592-a4256ac49b51"
      },
      "execution_count": null,
      "outputs": [
        {
          "output_type": "stream",
          "name": "stdout",
          "text": [
            "정수를 입력하세요 : 37\n",
            "홀수\n"
          ]
        }
      ]
    },
    {
      "cell_type": "code",
      "source": [
        "a=30\n",
        "if(a > 50) :\n",
        "  if(a<100) :\n",
        "    print(\"50 < a < 100\")\n",
        "  else:\n",
        "      print(\"a>100\")\n",
        "else:\n",
        "    print(\"a<50\")\n",
        "#if문안에 if를 넣어줄 수 있는데 들여쓰기를 사용해야 한다.\n",
        "# if(a > 50) :\n",
        "#  if(a<100) :\n",
        "#    print(\"50 < a < 100\") \n",
        "# 만약 a가 50보다 크고 100보다 작으면 a의 값은 50과 100사이에 있다는 것이 표기된다. "
      ],
      "metadata": {
        "colab": {
          "base_uri": "https://localhost:8080/"
        },
        "id": "_Y-YOz7u1uet",
        "outputId": "7d816e17-5bf2-423d-f535-6e662aa543a5"
      },
      "execution_count": null,
      "outputs": [
        {
          "output_type": "stream",
          "name": "stdout",
          "text": [
            "a<50\n"
          ]
        }
      ]
    },
    {
      "cell_type": "code",
      "source": [
        "fruit = ['사과','배', '감', '포도']\n",
        "fruit.append('딸기')\n",
        "if '딸기' not in fruit : #if '딸기' not in fruit :\n",
        "  print(\"딸기가 있습니다\")\n",
        "print(fruit)"
      ],
      "metadata": {
        "colab": {
          "base_uri": "https://localhost:8080/"
        },
        "id": "-UHY98Za8BVJ",
        "outputId": "c2eaacbe-abcc-47ad-e77d-d358568c2c85"
      },
      "execution_count": null,
      "outputs": [
        {
          "output_type": "stream",
          "name": "stdout",
          "text": [
            "['사과', '배', '감', '포도', '딸기']\n"
          ]
        }
      ]
    },
    {
      "cell_type": "code",
      "source": [
        "import random\n",
        "\n",
        "number = []\n",
        "for num in range(0,10) :\n",
        "  number.append(random.randrange(0,10))\n",
        "print(\"생성된 리스트\", number)"
      ],
      "metadata": {
        "colab": {
          "base_uri": "https://localhost:8080/"
        },
        "id": "5lSMyHng8bs7",
        "outputId": "d85927f4-58e1-422f-9956-2feb09e61c34"
      },
      "execution_count": null,
      "outputs": [
        {
          "output_type": "stream",
          "name": "stdout",
          "text": [
            "생성된 리스트 [0, 8, 0, 2, 6, 6, 5, 2, 2, 8]\n"
          ]
        }
      ]
    },
    {
      "cell_type": "markdown",
      "source": [
        "## 반복문"
      ],
      "metadata": {
        "id": "Y-0E-59g-Vt7"
      }
    },
    {
      "cell_type": "code",
      "source": [
        "for i in range(0,3,1): #for i in range(0,3,1): (시작값, 끝값+1, 증가값).\n",
        "  print(\"%d 안녕하세요~\" %i) #반복 내용\n",
        " # print(i)\n",
        "print(\"반갑습니다^^\")"
      ],
      "metadata": {
        "colab": {
          "base_uri": "https://localhost:8080/"
        },
        "id": "-YvtiatM-X6b",
        "outputId": "addf4342-f746-4daa-da2f-e7fd1220561c"
      },
      "execution_count": null,
      "outputs": [
        {
          "output_type": "stream",
          "name": "stdout",
          "text": [
            "0 안녕하세요~\n",
            "1 안녕하세요~\n",
            "2 안녕하세요~\n",
            "반갑습니다^^\n"
          ]
        }
      ]
    },
    {
      "cell_type": "code",
      "source": [
        "for i in range(1,9,1) :\n",
        "  print(\"%d \" %i,end=\"\") #end=\"\" 은 옆으로 붙여줌. end=\"    \"을 사용하면 그만큼 띄어짐.\n",
        "print(\"\\n\")\n",
        "for i in range(1,9,1) :\n",
        "  print(\"%d\" %i, end=\" \")"
      ],
      "metadata": {
        "colab": {
          "base_uri": "https://localhost:8080/"
        },
        "id": "tPY-r_Hq_w5f",
        "outputId": "03dd824f-1249-4e41-defc-f1849b65894f"
      },
      "execution_count": null,
      "outputs": [
        {
          "output_type": "stream",
          "name": "stdout",
          "text": [
            "1 2 3 4 5 6 7 8 \n",
            "\n",
            "1 2 3 4 5 6 7 8 "
          ]
        }
      ]
    },
    {
      "cell_type": "code",
      "source": [
        "sum=0\n",
        "for i in range(1,11,1):\n",
        "  sum=sum+1\n",
        "  print(\"1~10까지 합계 : %d\" % sum)"
      ],
      "metadata": {
        "colab": {
          "base_uri": "https://localhost:8080/"
        },
        "id": "SkQrcfycAw_L",
        "outputId": "95a36303-abb1-4033-a4b0-821376de3435"
      },
      "execution_count": null,
      "outputs": [
        {
          "output_type": "stream",
          "name": "stdout",
          "text": [
            "1~10까지 합계 : 1\n",
            "1~10까지 합계 : 2\n",
            "1~10까지 합계 : 3\n",
            "1~10까지 합계 : 4\n",
            "1~10까지 합계 : 5\n",
            "1~10까지 합계 : 6\n",
            "1~10까지 합계 : 7\n",
            "1~10까지 합계 : 8\n",
            "1~10까지 합계 : 9\n",
            "1~10까지 합계 : 10\n"
          ]
        }
      ]
    },
    {
      "cell_type": "markdown",
      "source": [
        "#### Quiz3 : 숫자 입력을 받아 1부터 입력된 숫자까지의 합을 출력하시오.\n",
        "for문 사용."
      ],
      "metadata": {
        "id": "UHn6AfifBwev"
      }
    },
    {
      "cell_type": "code",
      "source": [
        "sum,num=0,0\n",
        "num = int(input(\"숫자 입력 : \"))\n",
        "for i in range(1,num+1,1):\n",
        "  sum=sum+i\n",
        "print(\"1~n까지 합계 : %d\" % sum)"
      ],
      "metadata": {
        "colab": {
          "base_uri": "https://localhost:8080/"
        },
        "id": "j7VUiqiJCeBR",
        "outputId": "7a350a8e-7fe9-47ff-b7c6-deb91b753f78"
      },
      "execution_count": null,
      "outputs": [
        {
          "output_type": "stream",
          "name": "stdout",
          "text": [
            "숫자 입력 : 300\n",
            "1~n까지 합계 : 45150\n"
          ]
        }
      ]
    },
    {
      "cell_type": "markdown",
      "source": [
        "####중첩for문"
      ],
      "metadata": {
        "id": "4QudWhq7DkGS"
      }
    },
    {
      "cell_type": "code",
      "source": [
        "i,j,k=0,0,0\n",
        "k= int(input(\"구구단 단수 입력 : \"))\n",
        "for i in range(1,10,1):\n",
        " # for j in range(1,10,1):\n",
        "    print(\"%d x %d = %2d\" % (k,i,k*i))\n",
        "print(\"\")"
      ],
      "metadata": {
        "id": "yV_S-HGcDpd2"
      },
      "execution_count": null,
      "outputs": []
    },
    {
      "cell_type": "markdown",
      "source": [
        "####quiz 구구단을 2,3,4,5 출력 후 줄바꿔서 출력"
      ],
      "metadata": {
        "id": "E8bHL9A8GFLb"
      }
    },
    {
      "cell_type": "code",
      "source": [
        "a,b=0,0\n",
        "#k= int(input(\"구구단 단수 입력 : \"))\n",
        "for a in range(1,10):\n",
        "  for b in range(2,4):\n",
        "    print(\"%d x %d = %2d\" % (b,a,a*b), end=\"\\t\")\n",
        "  print(\"\")\n",
        "print(\"\\n\")\n",
        "c,d=0,0\n",
        "for c in range(1,10):\n",
        "  for d in range(4,6):\n",
        "    print(\"%d x %d = %2d\" % (d,c,c*d), end=\"\\t\")\n",
        "  print(\"\")\n",
        "print(\"\\n\")\n",
        "e,f =0,0\n",
        "for e in range(1,10):\n",
        "  for f in range(6,8):\n",
        "    print(\"%d x %d = %2d\" % (f,e,e*f), end=\"\\t\")\n",
        "  print(\"\")\n",
        "print(\"\\n\")\n",
        "g,h=0,0\n",
        "for g in range(1,10):\n",
        "  for h in range(8,10):\n",
        "    print(\"%d x %d = %2d\" % (h,g,g*h), end=\"\\t\")\n",
        "  print(\"\")"
      ],
      "metadata": {
        "id": "icCJDaWdIctV",
        "colab": {
          "base_uri": "https://localhost:8080/"
        },
        "outputId": "f710c0e5-4576-4248-dc49-0dbbe067fff4"
      },
      "execution_count": null,
      "outputs": [
        {
          "output_type": "stream",
          "name": "stdout",
          "text": [
            "2 x 1 =  2\t3 x 1 =  3\t\n",
            "2 x 2 =  4\t3 x 2 =  6\t\n",
            "2 x 3 =  6\t3 x 3 =  9\t\n",
            "2 x 4 =  8\t3 x 4 = 12\t\n",
            "2 x 5 = 10\t3 x 5 = 15\t\n",
            "2 x 6 = 12\t3 x 6 = 18\t\n",
            "2 x 7 = 14\t3 x 7 = 21\t\n",
            "2 x 8 = 16\t3 x 8 = 24\t\n",
            "2 x 9 = 18\t3 x 9 = 27\t\n",
            "\n",
            "\n",
            "4 x 1 =  4\t5 x 1 =  5\t\n",
            "4 x 2 =  8\t5 x 2 = 10\t\n",
            "4 x 3 = 12\t5 x 3 = 15\t\n",
            "4 x 4 = 16\t5 x 4 = 20\t\n",
            "4 x 5 = 20\t5 x 5 = 25\t\n",
            "4 x 6 = 24\t5 x 6 = 30\t\n",
            "4 x 7 = 28\t5 x 7 = 35\t\n",
            "4 x 8 = 32\t5 x 8 = 40\t\n",
            "4 x 9 = 36\t5 x 9 = 45\t\n",
            "\n",
            "\n",
            "6 x 1 =  6\t7 x 1 =  7\t\n",
            "6 x 2 = 12\t7 x 2 = 14\t\n",
            "6 x 3 = 18\t7 x 3 = 21\t\n",
            "6 x 4 = 24\t7 x 4 = 28\t\n",
            "6 x 5 = 30\t7 x 5 = 35\t\n",
            "6 x 6 = 36\t7 x 6 = 42\t\n",
            "6 x 7 = 42\t7 x 7 = 49\t\n",
            "6 x 8 = 48\t7 x 8 = 56\t\n",
            "6 x 9 = 54\t7 x 9 = 63\t\n",
            "\n",
            "\n",
            "8 x 1 =  8\t9 x 1 =  9\t\n",
            "8 x 2 = 16\t9 x 2 = 18\t\n",
            "8 x 3 = 24\t9 x 3 = 27\t\n",
            "8 x 4 = 32\t9 x 4 = 36\t\n",
            "8 x 5 = 40\t9 x 5 = 45\t\n",
            "8 x 6 = 48\t9 x 6 = 54\t\n",
            "8 x 7 = 56\t9 x 7 = 63\t\n",
            "8 x 8 = 64\t9 x 8 = 72\t\n",
            "8 x 9 = 72\t9 x 9 = 81\t\n"
          ]
        }
      ]
    },
    {
      "cell_type": "markdown",
      "source": [
        "# CH3. 자료형\n",
        "\n",
        "## 1. 인덱스와 슬라이싱"
      ],
      "metadata": {
        "id": "sgIM94rgqK_I"
      }
    },
    {
      "cell_type": "code",
      "source": [
        "L = [0,1,2,3,4,5,6,7,8,9]\n",
        "print(len(L))"
      ],
      "metadata": {
        "colab": {
          "base_uri": "https://localhost:8080/"
        },
        "id": "xaLxC-_errKM",
        "outputId": "2d058930-8645-4bb6-8675-3662914a3294"
      },
      "execution_count": null,
      "outputs": [
        {
          "output_type": "stream",
          "name": "stdout",
          "text": [
            "10\n"
          ]
        }
      ]
    },
    {
      "cell_type": "code",
      "source": [
        "L = [0,1,2,3,4,5,6,7,8,9]\n",
        "print(L[-1])"
      ],
      "metadata": {
        "colab": {
          "base_uri": "https://localhost:8080/"
        },
        "id": "ip34mLOjrsr4",
        "outputId": "2e5caa9c-21be-4558-fd63-a8fcd59679cb"
      },
      "execution_count": null,
      "outputs": [
        {
          "output_type": "stream",
          "name": "stdout",
          "text": [
            "9\n"
          ]
        }
      ]
    },
    {
      "cell_type": "code",
      "source": [
        "L = [0,1,2,3,4,5,6,7,8,9]\n",
        "print(L[0:9:2])"
      ],
      "metadata": {
        "colab": {
          "base_uri": "https://localhost:8080/"
        },
        "id": "alceRJ07r0Yc",
        "outputId": "df1a647f-5f67-4fcb-86c6-a70b7840103a"
      },
      "execution_count": null,
      "outputs": [
        {
          "output_type": "stream",
          "name": "stdout",
          "text": [
            "[0, 2, 4, 6, 8]\n"
          ]
        }
      ]
    },
    {
      "cell_type": "code",
      "source": [
        "L = [0,1,2,3,4,5,6,7,8,9]\n",
        "print(len(L))\n",
        "print(L[len(L)-1])"
      ],
      "metadata": {
        "colab": {
          "base_uri": "https://localhost:8080/"
        },
        "id": "8f6hQBZZr6ft",
        "outputId": "836dbe1c-50b2-4e1a-ec6d-6e2ba216d620"
      },
      "execution_count": null,
      "outputs": [
        {
          "output_type": "stream",
          "name": "stdout",
          "text": [
            "10\n",
            "9\n"
          ]
        }
      ]
    },
    {
      "cell_type": "code",
      "source": [
        "L = [0,1,2,3,4,5,6,7,8,9]\n",
        "L[0]=99\n",
        "L[9]='가나다'\n",
        "L[1]=[1,2,3]\n",
        "print(L)\n",
        "print(L[9])"
      ],
      "metadata": {
        "colab": {
          "base_uri": "https://localhost:8080/"
        },
        "id": "jLM7LvwZsFGM",
        "outputId": "c1033b1a-8071-4c84-8397-fff5ea399960"
      },
      "execution_count": null,
      "outputs": [
        {
          "output_type": "stream",
          "name": "stdout",
          "text": [
            "[99, [1, 2, 3], 2, 3, 4, 5, 6, 7, 8, '가나다']\n",
            "가나다\n"
          ]
        }
      ]
    },
    {
      "cell_type": "code",
      "source": [
        "a=[1,2,3]\n",
        "b=[4,5,6]\n",
        "c=[a+b]\n",
        "print(a+b)\n",
        "print(c)\n",
        "print(a*3)"
      ],
      "metadata": {
        "colab": {
          "base_uri": "https://localhost:8080/"
        },
        "id": "A58Ezxvpsk_E",
        "outputId": "40c3df5e-49f8-44f7-d1be-ad440b412d93"
      },
      "execution_count": null,
      "outputs": [
        {
          "output_type": "stream",
          "name": "stdout",
          "text": [
            "[1, 2, 3, 4, 5, 6]\n",
            "[[1, 2, 3, 4, 5, 6]]\n",
            "[1, 2, 3, 1, 2, 3, 1, 2, 3]\n"
          ]
        }
      ]
    },
    {
      "cell_type": "code",
      "source": [
        "L=[1,2,3,4,5]\n",
        "print(L)\n",
        "L.append(6) #리스트 뒤에 추가\n",
        "print(L)\n",
        "L.remove(4) #해당 요소값을 삭제\n",
        "print(L)"
      ],
      "metadata": {
        "colab": {
          "base_uri": "https://localhost:8080/"
        },
        "id": "MhnH8rpgs7_Q",
        "outputId": "002f301b-f5b7-44e1-f31e-3e0e6a147e55"
      },
      "execution_count": null,
      "outputs": [
        {
          "output_type": "stream",
          "name": "stdout",
          "text": [
            "[1, 2, 3, 4, 5]\n",
            "[1, 2, 3, 4, 5, 6]\n",
            "[1, 2, 3, 5, 6]\n"
          ]
        }
      ]
    },
    {
      "cell_type": "code",
      "source": [
        "k = ['a','b','c','d']\n",
        "k.remove('d')\n",
        "print(k)"
      ],
      "metadata": {
        "colab": {
          "base_uri": "https://localhost:8080/"
        },
        "id": "R2tOEerrtpH1",
        "outputId": "4b5f51a6-fa70-4fb3-d8e6-9d58d43b86c6"
      },
      "execution_count": null,
      "outputs": [
        {
          "output_type": "stream",
          "name": "stdout",
          "text": [
            "['a', 'b', 'c']\n"
          ]
        }
      ]
    },
    {
      "cell_type": "code",
      "source": [
        "k = \"god is love!\"\n",
        "print(k[:3])\n",
        "print(k[6:])\n",
        "print(k[-8:-1])"
      ],
      "metadata": {
        "colab": {
          "base_uri": "https://localhost:8080/"
        },
        "id": "BxHCyZ4Fwv4h",
        "outputId": "9b4365ff-b28b-4f9a-dd9b-cd180d850c6b"
      },
      "execution_count": null,
      "outputs": [
        {
          "output_type": "stream",
          "name": "stdout",
          "text": [
            "god\n",
            " love!\n",
            "is love\n"
          ]
        }
      ]
    },
    {
      "cell_type": "code",
      "source": [
        "k=\"God is love!\"\n",
        "print(k.upper())\n",
        "print(k.lower())\n",
        "print(k.strip())"
      ],
      "metadata": {
        "colab": {
          "base_uri": "https://localhost:8080/"
        },
        "id": "U3HafjU8xx8y",
        "outputId": "e721568e-3602-4c6a-f505-a9d2a4048a7c"
      },
      "execution_count": null,
      "outputs": [
        {
          "output_type": "stream",
          "name": "stdout",
          "text": [
            "GOD IS LOVE!\n",
            "god is love!\n",
            "God is love!\n"
          ]
        }
      ]
    },
    {
      "cell_type": "code",
      "source": [
        "a=\"God, is, love!\"\n",
        "print(a.split(\",\"))"
      ],
      "metadata": {
        "colab": {
          "base_uri": "https://localhost:8080/"
        },
        "id": "ETQveQSNyP8Z",
        "outputId": "467f0c08-cc3f-4059-ec4d-17332965aa45"
      },
      "execution_count": null,
      "outputs": [
        {
          "output_type": "stream",
          "name": "stdout",
          "text": [
            "['God', ' is', ' love!']\n"
          ]
        }
      ]
    },
    {
      "cell_type": "code",
      "source": [
        "a= [\"apple\", \"banana\", \"cherry\" ]\n",
        "a.append(\"orange\") #맨뒤에 추가\n",
        "print(a)\n"
      ],
      "metadata": {
        "colab": {
          "base_uri": "https://localhost:8080/"
        },
        "id": "vtBb0Zhqy_Se",
        "outputId": "f8472b78-b847-43c2-a2fe-747937834037"
      },
      "execution_count": null,
      "outputs": [
        {
          "output_type": "stream",
          "name": "stdout",
          "text": [
            "['apple', 'banana', 'cherry', 'orange']\n"
          ]
        }
      ]
    },
    {
      "cell_type": "code",
      "source": [
        "a= [\"apple\", \"banana\", \"cherry\" ]\n",
        "a.insert(1,\"orrange\") #지정된 곳에 삽입\n",
        "print(a)"
      ],
      "metadata": {
        "colab": {
          "base_uri": "https://localhost:8080/"
        },
        "id": "64qlcV9LzmHy",
        "outputId": "28855ebf-8ffa-4a7f-8501-76157a9c8640"
      },
      "execution_count": null,
      "outputs": [
        {
          "output_type": "stream",
          "name": "stdout",
          "text": [
            "['apple', 'orrange', 'banana', 'cherry']\n"
          ]
        }
      ]
    },
    {
      "cell_type": "code",
      "source": [
        "a= [\"apple\",\"banana\", \"cherry\"]\n",
        "a.remove(\"banana\")\n",
        "print(a)"
      ],
      "metadata": {
        "colab": {
          "base_uri": "https://localhost:8080/"
        },
        "id": "xplJVUJizrCf",
        "outputId": "f2b627ee-7403-422b-a0b9-163e0187aa57"
      },
      "execution_count": null,
      "outputs": [
        {
          "output_type": "stream",
          "name": "stdout",
          "text": [
            "['apple', 'cherry']\n"
          ]
        }
      ]
    },
    {
      "cell_type": "code",
      "source": [
        "a= [\"apple\",\"banana\", \"cherry\"]\n",
        "a.pop() # 맨뒤 삭제\n",
        "print(a)\n",
        "a.pop(1) #지정한 위치 삭제\n",
        "print(a)"
      ],
      "metadata": {
        "colab": {
          "base_uri": "https://localhost:8080/"
        },
        "id": "kB3Cd3te0AlV",
        "outputId": "560ed1c3-0e4b-4bfa-9431-6904f6b7e078"
      },
      "execution_count": null,
      "outputs": [
        {
          "output_type": "stream",
          "name": "stdout",
          "text": [
            "['apple', 'banana']\n",
            "['apple']\n"
          ]
        }
      ]
    },
    {
      "cell_type": "code",
      "source": [
        "a= [\"apple\",\"banana\", \"cherry\"]\n",
        "del a[0]\n",
        "print(a)\n",
        "a.clear() #del a은 전체삭제라서 오류가 뜨지만 clear를 사용하면 목록은 살아있다.\n",
        "print(a)"
      ],
      "metadata": {
        "colab": {
          "base_uri": "https://localhost:8080/"
        },
        "id": "uJ8bTqJO0jZS",
        "outputId": "3e5404a9-3f28-4152-dcb0-7cad0bfd7346"
      },
      "execution_count": null,
      "outputs": [
        {
          "output_type": "stream",
          "name": "stdout",
          "text": [
            "['banana', 'cherry']\n",
            "[]\n"
          ]
        }
      ]
    },
    {
      "cell_type": "code",
      "source": [
        "fruit= [\"apple\",\"banana\", \"cherry\"]\n",
        "for x in fruit:\n",
        "  print(x)"
      ],
      "metadata": {
        "colab": {
          "base_uri": "https://localhost:8080/"
        },
        "id": "sWQNPsIc1DW-",
        "outputId": "2d2fd0cd-f15e-42d6-c85d-28070703804a"
      },
      "execution_count": null,
      "outputs": [
        {
          "output_type": "stream",
          "name": "stdout",
          "text": [
            "apple\n",
            "banana\n",
            "cherry\n"
          ]
        }
      ]
    },
    {
      "cell_type": "code",
      "source": [
        "fruit= [\"apple\",\"banana\", \"cherry\"]\n",
        "for i in range(len(fruit)): #프룻의\n",
        "  print(fruit)"
      ],
      "metadata": {
        "colab": {
          "base_uri": "https://localhost:8080/"
        },
        "id": "ZroCrOnA1d37",
        "outputId": "df8b1bc9-31ee-4e4b-ee0f-37192abacfe6"
      },
      "execution_count": null,
      "outputs": [
        {
          "output_type": "stream",
          "name": "stdout",
          "text": [
            "['apple', 'banana', 'cherry']\n",
            "['apple', 'banana', 'cherry']\n",
            "['apple', 'banana', 'cherry']\n"
          ]
        }
      ]
    },
    {
      "cell_type": "markdown",
      "source": [
        "#### SORT"
      ],
      "metadata": {
        "id": "Yd4x9gKQ17C-"
      }
    },
    {
      "cell_type": "code",
      "source": [
        "a = [5,3,6,8,1,9,0]\n",
        "a.sort() #순서대로 정리해주는 역할\n",
        "print(a)"
      ],
      "metadata": {
        "colab": {
          "base_uri": "https://localhost:8080/"
        },
        "id": "V8Y1sSt51-3b",
        "outputId": "8d384c12-3b55-4b89-a270-167a2ee68774"
      },
      "execution_count": null,
      "outputs": [
        {
          "output_type": "stream",
          "name": "stdout",
          "text": [
            "[0, 1, 3, 5, 6, 8, 9]\n"
          ]
        }
      ]
    },
    {
      "cell_type": "code",
      "source": [
        "a = [5,3,6,8,1,9,0,2,4,7]\n",
        "a.sort(reverse = True)\n",
        "print(a)\n",
        "a.sort()\n",
        "print(a)"
      ],
      "metadata": {
        "colab": {
          "base_uri": "https://localhost:8080/"
        },
        "id": "FJoJqO542NDS",
        "outputId": "f45bcd85-828e-49a7-cda5-da1902f2c769"
      },
      "execution_count": null,
      "outputs": [
        {
          "output_type": "stream",
          "name": "stdout",
          "text": [
            "[9, 8, 7, 6, 5, 4, 3, 2, 1, 0]\n",
            "[0, 1, 2, 3, 4, 5, 6, 7, 8, 9]\n"
          ]
        }
      ]
    },
    {
      "cell_type": "code",
      "source": [
        "fruit= [\"apple\",\"Kiwi\", \"banana\", \"cherry\",\"Orange\"]\n",
        "fruit.sort()\n",
        "print(fruit)\n",
        "fruit.sort(key=str.lower) #원래는 대소문자를 구분하지만 이렇게 사용함으로써 대소문자를 구분하지않고 정렬.\n",
        "print(fruit)\n",
        "fruit.reverse() #항목의 순서를 반대로 정렬\n",
        "print(fruit)"
      ],
      "metadata": {
        "colab": {
          "base_uri": "https://localhost:8080/"
        },
        "id": "rMXsgXCf2wnK",
        "outputId": "f032c7c3-959a-4b55-bd8d-10641aaeb0b4"
      },
      "execution_count": null,
      "outputs": [
        {
          "output_type": "stream",
          "name": "stdout",
          "text": [
            "['Kiwi', 'Orange', 'apple', 'banana', 'cherry']\n",
            "['apple', 'banana', 'cherry', 'Kiwi', 'Orange']\n",
            "['Orange', 'Kiwi', 'cherry', 'banana', 'apple']\n"
          ]
        }
      ]
    },
    {
      "cell_type": "code",
      "source": [
        "# list 복사\n",
        "fruit= [\"apple\",\"Kiwi\", \"banana\", \"cherry\",\"Orange\"]\n",
        "myList = fruit.copy()\n",
        "print(myList)\n",
        "cpList = list(fruit)\n",
        "print(cpList)"
      ],
      "metadata": {
        "colab": {
          "base_uri": "https://localhost:8080/"
        },
        "id": "ZSZ4Y-DR4C5L",
        "outputId": "c4db0a16-7819-4ad2-9f82-15cf839c5c00"
      },
      "execution_count": null,
      "outputs": [
        {
          "output_type": "stream",
          "name": "stdout",
          "text": [
            "['apple', 'Kiwi', 'banana', 'cherry', 'Orange']\n",
            "['apple', 'Kiwi', 'banana', 'cherry', 'Orange']\n"
          ]
        }
      ]
    },
    {
      "cell_type": "markdown",
      "source": [
        "### 2. Tuple "
      ],
      "metadata": {
        "id": "T94nYsKQ4sSW"
      }
    },
    {
      "cell_type": "code",
      "source": [
        "L = [1,2,3]\n",
        "t = (4,5,6) \n",
        "L[0] = 5\n",
        "print(L)\n",
        "t[0]=1\n",
        "print(t)"
      ],
      "metadata": {
        "colab": {
          "base_uri": "https://localhost:8080/",
          "height": 305
        },
        "id": "364BgpvY5ZfG",
        "outputId": "3bb98434-8309-474f-bb47-e6f9e078e751"
      },
      "execution_count": null,
      "outputs": [
        {
          "output_type": "stream",
          "name": "stdout",
          "text": [
            "[5, 2, 3]\n"
          ]
        },
        {
          "output_type": "error",
          "ename": "TypeError",
          "evalue": "ignored",
          "traceback": [
            "\u001b[0;31m---------------------------------------------------------------------------\u001b[0m",
            "\u001b[0;31mTypeError\u001b[0m                                 Traceback (most recent call last)",
            "\u001b[0;32m<ipython-input-11-14da1976a4f1>\u001b[0m in \u001b[0;36m<cell line: 5>\u001b[0;34m()\u001b[0m\n\u001b[1;32m      3\u001b[0m \u001b[0mL\u001b[0m\u001b[0;34m[\u001b[0m\u001b[0;36m0\u001b[0m\u001b[0;34m]\u001b[0m \u001b[0;34m=\u001b[0m \u001b[0;36m5\u001b[0m\u001b[0;34m\u001b[0m\u001b[0;34m\u001b[0m\u001b[0m\n\u001b[1;32m      4\u001b[0m \u001b[0mprint\u001b[0m\u001b[0;34m(\u001b[0m\u001b[0mL\u001b[0m\u001b[0;34m)\u001b[0m\u001b[0;34m\u001b[0m\u001b[0;34m\u001b[0m\u001b[0m\n\u001b[0;32m----> 5\u001b[0;31m \u001b[0mt\u001b[0m\u001b[0;34m[\u001b[0m\u001b[0;36m0\u001b[0m\u001b[0;34m]\u001b[0m\u001b[0;34m=\u001b[0m\u001b[0;36m1\u001b[0m\u001b[0;34m\u001b[0m\u001b[0;34m\u001b[0m\u001b[0m\n\u001b[0m\u001b[1;32m      6\u001b[0m \u001b[0mprint\u001b[0m\u001b[0;34m(\u001b[0m\u001b[0mt\u001b[0m\u001b[0;34m)\u001b[0m\u001b[0;34m\u001b[0m\u001b[0;34m\u001b[0m\u001b[0m\n",
            "\u001b[0;31mTypeError\u001b[0m: 'tuple' object does not support item assignment"
          ]
        }
      ]
    },
    {
      "cell_type": "code",
      "source": [
        "f= [\"apple\",\"Kiwi\", \"banana\", \"cherry\",\"Orange\"]\n",
        "print(len(f))"
      ],
      "metadata": {
        "colab": {
          "base_uri": "https://localhost:8080/"
        },
        "id": "_Z1m7WVm6Fcg",
        "outputId": "fd36147a-aec3-4be3-e39c-ac973f6e75e3"
      },
      "execution_count": null,
      "outputs": [
        {
          "output_type": "stream",
          "name": "stdout",
          "text": [
            "5\n"
          ]
        }
      ]
    },
    {
      "cell_type": "code",
      "source": [
        "t = (\"apple\",)\n",
        "print(t)\n",
        "f = (\"banana\") # 튜플로 인식하기 위해서는 \",\"가 필요\n",
        "print(t,f)\n",
        "print(type(f))\n",
        "print(type(t))"
      ],
      "metadata": {
        "colab": {
          "base_uri": "https://localhost:8080/"
        },
        "id": "4fRGbAcO6NzH",
        "outputId": "3f8a7495-39e2-462c-d9b6-047972b5bac2"
      },
      "execution_count": null,
      "outputs": [
        {
          "output_type": "stream",
          "name": "stdout",
          "text": [
            "('apple',)\n",
            "('apple',) banana\n",
            "<class 'str'>\n",
            "<class 'tuple'>\n"
          ]
        }
      ]
    },
    {
      "cell_type": "code",
      "source": [
        "f= (\"apple\",\"Kiwi\", \"banana\", \"cherry\",\"Orange\")\n",
        "print(f[:4])\n",
        "print(f[2:])"
      ],
      "metadata": {
        "colab": {
          "base_uri": "https://localhost:8080/"
        },
        "id": "Ylu2BaDo7U6T",
        "outputId": "3e65217c-158e-4c9e-a76e-25c777eaeeb2"
      },
      "execution_count": null,
      "outputs": [
        {
          "output_type": "stream",
          "name": "stdout",
          "text": [
            "('apple', 'Kiwi', 'banana', 'cherry')\n",
            "('banana', 'cherry', 'Orange')\n"
          ]
        }
      ]
    },
    {
      "cell_type": "code",
      "source": [
        "f= (\"apple\",\"Kiwi\", \"banana\", \"cherry\",\"Orange\")\n",
        "if \"apple\" in f:\n",
        "  print(\"Yes.'apple' is in\")\n",
        "else:\n",
        "  print(\"no. 'apple' is not in\")"
      ],
      "metadata": {
        "colab": {
          "base_uri": "https://localhost:8080/"
        },
        "id": "5pSqNmRw7ngL",
        "outputId": "2eb3426b-d6b0-44a7-c8be-d2fdbcd3b24f"
      },
      "execution_count": null,
      "outputs": [
        {
          "output_type": "stream",
          "name": "stdout",
          "text": [
            "Yes.'apple' is in\n"
          ]
        }
      ]
    },
    {
      "cell_type": "markdown",
      "source": [
        "#### list<->tuple\n"
      ],
      "metadata": {
        "id": "tEXVjstD_yOw"
      }
    },
    {
      "cell_type": "code",
      "source": [
        "firm = ['Samsung','LG','SK']\n",
        "tdata = tuple(firm)\n",
        "print(firm)\n",
        "print(tdata)"
      ],
      "metadata": {
        "colab": {
          "base_uri": "https://localhost:8080/"
        },
        "id": "ic_vvIHC_30u",
        "outputId": "50d2fae2-2b98-415e-95c7-ec66d7d60423"
      },
      "execution_count": null,
      "outputs": [
        {
          "output_type": "stream",
          "name": "stdout",
          "text": [
            "['Samsung', 'LG', 'SK']\n",
            "('Samsung', 'LG', 'SK')\n"
          ]
        }
      ]
    },
    {
      "cell_type": "code",
      "source": [
        "#시험 출제시 어려움을 겪는다 공부해두기.\n",
        "#tuple에 추가\n",
        "t= (\"apple\",\"Kiwi\", \"banana\", \"cherry\")\n",
        "y= list(t)\n",
        "y.append(\"Orange\")\n",
        "t= tuple(y)\n",
        "print(t)"
      ],
      "metadata": {
        "colab": {
          "base_uri": "https://localhost:8080/"
        },
        "id": "9ROM7dVVATrB",
        "outputId": "9613afaf-9f4a-4cb0-ab14-e4f2253c9a39"
      },
      "execution_count": null,
      "outputs": [
        {
          "output_type": "stream",
          "name": "stdout",
          "text": [
            "('apple', 'Kiwi', 'banana', 'cherry', 'Orange')\n"
          ]
        }
      ]
    },
    {
      "cell_type": "code",
      "source": [
        "t= (\"apple\", \"banana\", \"cherry\")\n",
        "q = (\"kiwi\",)\n",
        "t += q\n",
        "print(t)"
      ],
      "metadata": {
        "colab": {
          "base_uri": "https://localhost:8080/"
        },
        "id": "Q6BZKGF4A_Ww",
        "outputId": "4749f832-4b96-4f5b-9c2f-d47af89c92ff"
      },
      "execution_count": null,
      "outputs": [
        {
          "output_type": "stream",
          "name": "stdout",
          "text": [
            "('apple', 'banana', 'cherry', 'kiwi')\n"
          ]
        }
      ]
    },
    {
      "cell_type": "code",
      "source": [
        "t= (\"apple\", \"banana\", \"cherry\",\"kiwi\")\n",
        "l = list(t)\n",
        "l.remove(\"apple\")\n",
        "t= tuple(l)\n",
        "print(t)\n",
        "del t\n",
        "# print(t)"
      ],
      "metadata": {
        "colab": {
          "base_uri": "https://localhost:8080/"
        },
        "id": "H4S3eN4lBs3c",
        "outputId": "75ecb9dd-799a-42b3-e76a-1f6b5df3f371"
      },
      "execution_count": null,
      "outputs": [
        {
          "output_type": "stream",
          "name": "stdout",
          "text": [
            "('banana', 'cherry', 'kiwi')\n"
          ]
        }
      ]
    },
    {
      "cell_type": "markdown",
      "source": [
        "#### 3. dict 사전자료형"
      ],
      "metadata": {
        "id": "LHSwKTgqEHR9"
      }
    },
    {
      "cell_type": "code",
      "source": [
        "d = {\n",
        "    'a':1,\n",
        "    'b':2,\n",
        "    'c':3,\n",
        "}\n",
        "print(d)\n",
        "print(d.keys())\n",
        "print(d.values())\n",
        "print(d.items())"
      ],
      "metadata": {
        "colab": {
          "base_uri": "https://localhost:8080/"
        },
        "id": "BNwJHxY-EKb-",
        "outputId": "ef18dc89-b18d-49c5-81ea-178e35237654"
      },
      "execution_count": null,
      "outputs": [
        {
          "output_type": "stream",
          "name": "stdout",
          "text": [
            "{'a': 1, 'b': 2, 'c': 3}\n",
            "dict_keys(['a', 'b', 'c'])\n",
            "dict_values([1, 2, 3])\n",
            "dict_items([('a', 1), ('b', 2), ('c', 3)])\n"
          ]
        }
      ]
    },
    {
      "cell_type": "code",
      "source": [
        "car = {\n",
        "    \"brand\": \"BMW\",\n",
        "    \"model\": \"GT\",\n",
        "    \"year\" : 1988\n",
        "}\n",
        "print(car)\n",
        "print(len(car))\n",
        "car[\"year\"] = 2000\n",
        "car[\"item\"]=123456\n",
        "car.update({\"color\":\"red\"})\n",
        "print(car)"
      ],
      "metadata": {
        "colab": {
          "base_uri": "https://localhost:8080/"
        },
        "id": "7u7bj_OQE1vf",
        "outputId": "26e09958-db35-4e64-ed8d-673f98aea1fd"
      },
      "execution_count": null,
      "outputs": [
        {
          "output_type": "stream",
          "name": "stdout",
          "text": [
            "{'brand': 'BMW', 'model': 'GT', 'year': 1988}\n",
            "3\n",
            "{'brand': 'BMW', 'model': 'GT', 'year': 2000, 'item': 123456, 'color': 'red'}\n"
          ]
        }
      ]
    },
    {
      "cell_type": "code",
      "source": [
        "car = {\n",
        "    \"brand\": \"BMW\",\n",
        "    \"model\": \"GT\",\n",
        "    \"year\" : 1988\n",
        "}\n",
        "car.pop(\"model\")\n",
        "print(car)"
      ],
      "metadata": {
        "colab": {
          "base_uri": "https://localhost:8080/"
        },
        "id": "dTlFQkWjG3rt",
        "outputId": "d559b12d-3cd3-41e0-ed6a-f592b53113c6"
      },
      "execution_count": null,
      "outputs": [
        {
          "output_type": "stream",
          "name": "stdout",
          "text": [
            "{'brand': 'BMW', 'year': 1988}\n"
          ]
        }
      ]
    },
    {
      "cell_type": "code",
      "source": [
        "car = {\n",
        "    \"brand\": \"BMW\",\n",
        "    \"model\": \"GT\",\n",
        "    \"year\" : 1988\n",
        "}\n",
        "car.popitem()\n",
        "print(car)"
      ],
      "metadata": {
        "colab": {
          "base_uri": "https://localhost:8080/"
        },
        "id": "FjUmcG3kFWC3",
        "outputId": "af3bb1f8-2b01-4b6a-a49f-0d924d36aee2"
      },
      "execution_count": null,
      "outputs": [
        {
          "output_type": "stream",
          "name": "stdout",
          "text": [
            "{'brand': 'BMW', 'model': 'GT'}\n"
          ]
        }
      ]
    },
    {
      "cell_type": "code",
      "source": [
        "car = {\n",
        "    \"brand\": \"BMW\",\n",
        "    \"model\": \"GT\",\n",
        "    \"year\" : 1988\n",
        "}\n",
        "car.clear() #비움\n",
        "del car #삭제"
      ],
      "metadata": {
        "id": "YpBrGLJ5HQ7D"
      },
      "execution_count": null,
      "outputs": []
    },
    {
      "cell_type": "code",
      "source": [
        "car = {\n",
        "    \"brand\": \"BMW\",\n",
        "    \"model\": \"GT\",\n",
        "    \"year\" : 1988\n",
        "}\n",
        "for x in car:\n",
        "  print(car[x])"
      ],
      "metadata": {
        "colab": {
          "base_uri": "https://localhost:8080/"
        },
        "id": "k4ECJNjyHwsV",
        "outputId": "d1c05ec3-eae8-4364-af45-121061409c36"
      },
      "execution_count": null,
      "outputs": [
        {
          "output_type": "stream",
          "name": "stdout",
          "text": [
            "BMW\n",
            "GT\n",
            "1988\n"
          ]
        }
      ]
    },
    {
      "cell_type": "code",
      "source": [
        "car = {\n",
        "    \"brand\": \"BMW\",\n",
        "    \"model\": \"GT\",\n",
        "    \"year\" : 1988\n",
        "}\n",
        "for x in car.keys():\n",
        "  print(x)"
      ],
      "metadata": {
        "colab": {
          "base_uri": "https://localhost:8080/"
        },
        "id": "hEBNwAxHICGY",
        "outputId": "07914848-c01b-4d5f-e247-f84d25c2c104"
      },
      "execution_count": null,
      "outputs": [
        {
          "output_type": "stream",
          "name": "stdout",
          "text": [
            "brand\n",
            "model\n",
            "year\n"
          ]
        }
      ]
    },
    {
      "cell_type": "code",
      "source": [
        "car = {\n",
        "    \"brand\": \"BMW\",\n",
        "    \"model\": \"GT\",\n",
        "    \"year\" : 1988\n",
        "}\n",
        "for x in car.values():\n",
        "  print(x)"
      ],
      "metadata": {
        "colab": {
          "base_uri": "https://localhost:8080/"
        },
        "id": "khXvFdb5Ibbg",
        "outputId": "82af418f-b5ef-4558-9aae-5a17b43ecb1d"
      },
      "execution_count": null,
      "outputs": [
        {
          "output_type": "stream",
          "name": "stdout",
          "text": [
            "BMW\n",
            "GT\n",
            "1988\n"
          ]
        }
      ]
    },
    {
      "cell_type": "code",
      "source": [
        "car = {\n",
        "    \"brand\": \"BMW\",\n",
        "    \"model\": \"GT\",\n",
        "    \"year\" : 1988\n",
        "}\n",
        "for x,y in car.items():\n",
        "  print(x,y)"
      ],
      "metadata": {
        "colab": {
          "base_uri": "https://localhost:8080/"
        },
        "id": "qM86WinnIfvP",
        "outputId": "5f8bfcd0-ac99-48e4-e7ca-6e2edfb7766d"
      },
      "execution_count": null,
      "outputs": [
        {
          "output_type": "stream",
          "name": "stdout",
          "text": [
            "brand BMW\n",
            "model GT\n",
            "year 1988\n"
          ]
        }
      ]
    },
    {
      "cell_type": "code",
      "source": [
        "car = {\n",
        "    \"brand\": \"BMW\",\n",
        "    \"model\": \"GT\",\n",
        "    \"year\" : 1988\n",
        "}\n",
        "myCar= car.copy()\n",
        "print(myCar)"
      ],
      "metadata": {
        "colab": {
          "base_uri": "https://localhost:8080/"
        },
        "id": "ZraHXavFI4SK",
        "outputId": "6e6bc8d0-db0a-4289-afcd-589db101eb50"
      },
      "execution_count": null,
      "outputs": [
        {
          "output_type": "stream",
          "name": "stdout",
          "text": [
            "{'brand': 'BMW', 'model': 'GT', 'year': 1988}\n"
          ]
        }
      ]
    },
    {
      "cell_type": "code",
      "source": [
        "car = {\n",
        "    \"brand\": \"BMW\",\n",
        "    \"model\": \"GT\",\n",
        "    \"year\" : 1988\n",
        "}\n",
        "myCar = dict(car)\n",
        "print(myCar)"
      ],
      "metadata": {
        "colab": {
          "base_uri": "https://localhost:8080/"
        },
        "id": "5vsywEt5I_Nc",
        "outputId": "698d3301-4fe9-4404-c8b2-b9016e13efe9"
      },
      "execution_count": null,
      "outputs": [
        {
          "output_type": "stream",
          "name": "stdout",
          "text": [
            "{'brand': 'BMW', 'model': 'GT', 'year': 1988}\n"
          ]
        }
      ]
    },
    {
      "cell_type": "code",
      "source": [
        "name1 = {\"name\":\"임태혁\",\"year\":\"2000\",}\n",
        "name2 = {\"name\":\"갑돌이\",\"year\":\"2010\",}\n",
        "name3 = {\"name\":\"갑순이\",\"year\":\"2003\",}\n",
        "family = {\n",
        "    \"name1\" :name1,\n",
        "    \"name2\" :name2,\n",
        "    \"name3\" :name3\n",
        "}\n",
        "print(family)"
      ],
      "metadata": {
        "colab": {
          "base_uri": "https://localhost:8080/"
        },
        "id": "QzhsLX0OJXk6",
        "outputId": "ca95dbde-598b-4932-e1fe-7bf4c627e9f1"
      },
      "execution_count": null,
      "outputs": [
        {
          "output_type": "stream",
          "name": "stdout",
          "text": [
            "{'name1': {'name': '임태혁', 'year': '2000'}, 'name2': {'name': '갑돌이', 'year': '2010'}, 'name3': {'name': '갑순이', 'year': '2003'}}\n"
          ]
        }
      ]
    },
    {
      "cell_type": "markdown",
      "source": [
        "#ch4 조건문, 반복문"
      ],
      "metadata": {
        "id": "aZyob6R_uE1t"
      }
    },
    {
      "cell_type": "markdown",
      "source": [
        "## 중첩 if문"
      ],
      "metadata": {
        "id": "sftWuHtNuIMr"
      }
    },
    {
      "cell_type": "code",
      "source": [
        "score = int(input(\"수를 입력해 주세요 : \"))\n",
        "if (score > 100):\n",
        "  print(\"0~100까지의 숫자로 입력하세요.\")\n",
        "if(score >= 90):\n",
        "  print(\"A\")\n",
        "elif(score >= 80):\n",
        "  print(\"B\")\n",
        "elif(score >= 70):\n",
        "  print(\"C\")\n",
        "elif(score >= 60):\n",
        "  print(\" D\")\n",
        "else:\n",
        "  print(\"F\")\n",
        "print(\"학점. 점수: %3d\"%score)"
      ],
      "metadata": {
        "colab": {
          "base_uri": "https://localhost:8080/"
        },
        "id": "ak4YkVCXuLTz",
        "outputId": "7e98d009-30cd-467c-8d8c-08d3421d34cd"
      },
      "execution_count": null,
      "outputs": [
        {
          "output_type": "stream",
          "name": "stdout",
          "text": [
            "수를 입력해 주세요 : 95\n",
            "A\n",
            "학점. 점수:  95\n"
          ]
        }
      ]
    },
    {
      "cell_type": "code",
      "source": [
        "import random\n",
        "\n",
        "numbers = []\n",
        "for num in range(0,10):\n",
        "  numbers.append(random.randrange(0,10))\n",
        "print(\"생성된 리스트\",numbers)\n",
        "\n",
        "for num in range(0,10):\n",
        "  if num not in numbers:\n",
        "    print(\"숫자 %d는 리스트에 없습니다\"%num)\n",
        "  else:\n",
        "    print(\"숫자 %d는 리스트에 없습니다\"%num)\n"
      ],
      "metadata": {
        "colab": {
          "base_uri": "https://localhost:8080/"
        },
        "id": "Do9DuM82zm-t",
        "outputId": "e3d8349e-57e9-4999-d80b-e4a53c90d8d4"
      },
      "execution_count": null,
      "outputs": [
        {
          "output_type": "stream",
          "name": "stdout",
          "text": [
            "생성된 리스트 [1, 6, 8, 1, 3, 3, 9, 1, 6, 5]\n",
            "숫자 0는 리스트에 없습니다\n",
            "숫자 1는 리스트에 없습니다\n",
            "숫자 2는 리스트에 없습니다\n",
            "숫자 3는 리스트에 없습니다\n",
            "숫자 4는 리스트에 없습니다\n",
            "숫자 5는 리스트에 없습니다\n",
            "숫자 6는 리스트에 없습니다\n",
            "숫자 7는 리스트에 없습니다\n",
            "숫자 8는 리스트에 없습니다\n",
            "숫자 9는 리스트에 없습니다\n"
          ]
        }
      ]
    },
    {
      "cell_type": "code",
      "source": [
        "select, answer, numStr, num1, num2 = 0, 0, \"\", 0, 0\n",
        "\n",
        "select = int(input(\"1.입력한 수식 계산 2.두수의 합계 : \"))\n",
        "\n",
        "if select ==1:\n",
        "  numStr = input(\"*** 수식을 입력하세요 : \")\n",
        "  anwer = eval(numStr) #1+2, \"stirng\"+\"string\"\n",
        "  print(\"%s 결과는 %5.1f입니다. \"%(numStr,anwer))\n",
        "elif select == 2:\n",
        "  num1 = int(input(\"*** 첫번째 숫자를 입력하세요 : \"))\n",
        "  num2 = int(input(\"*** 두번째 숫자를 입력하세요 : \"))\n",
        "  for i in range(num1,num2+1):\n",
        "    answer = answer + i\n",
        "  print(\"%d+...+%d는 %d입니다.\" %(num1,num2,answer))\n",
        "else:\n",
        "  print(\"1또는 2만 입력해야 합니다.\")"
      ],
      "metadata": {
        "colab": {
          "base_uri": "https://localhost:8080/"
        },
        "id": "Q5gDKeHHuRQX",
        "outputId": "0fa15eeb-7b81-42b2-b682-02a1afef3079"
      },
      "execution_count": null,
      "outputs": [
        {
          "output_type": "stream",
          "name": "stdout",
          "text": [
            "1.입력한 수식 계산 2.두수의 합계 : 1\n",
            "*** 수식을 입력하세요 : 2\n",
            "2 결과는   2.0입니다. \n"
          ]
        }
      ]
    },
    {
      "cell_type": "markdown",
      "source": [
        "##for & while 반목문\n"
      ],
      "metadata": {
        "id": "SNCdq3-x-qsH"
      }
    },
    {
      "cell_type": "code",
      "source": [
        "for i in range(0,3,1):\n",
        "  print(\"안녕\")\n"
      ],
      "metadata": {
        "colab": {
          "base_uri": "https://localhost:8080/"
        },
        "id": "GdvljbZp-vgc",
        "outputId": "4709cd77-e6a6-4c92-f9ab-0dfd28420832"
      },
      "execution_count": null,
      "outputs": [
        {
          "output_type": "stream",
          "name": "stdout",
          "text": [
            "안녕\n",
            "안녕\n",
            "안녕\n"
          ]
        }
      ]
    },
    {
      "cell_type": "code",
      "source": [
        "for i in range(0,3,1):\n",
        "  for j in range(0,5,1):\n",
        "    print(\"i:%d, j:%d\" %(i,j))"
      ],
      "metadata": {
        "colab": {
          "base_uri": "https://localhost:8080/"
        },
        "id": "5VLwvR8mAexW",
        "outputId": "9dfae537-8fb3-49d8-91b5-471961683d70"
      },
      "execution_count": null,
      "outputs": [
        {
          "output_type": "stream",
          "name": "stdout",
          "text": [
            "i:0, j:0\n",
            "i:0, j:1\n",
            "i:0, j:2\n",
            "i:0, j:3\n",
            "i:0, j:4\n",
            "i:1, j:0\n",
            "i:1, j:1\n",
            "i:1, j:2\n",
            "i:1, j:3\n",
            "i:1, j:4\n",
            "i:2, j:0\n",
            "i:2, j:1\n",
            "i:2, j:2\n",
            "i:2, j:3\n",
            "i:2, j:4\n"
          ]
        }
      ]
    },
    {
      "cell_type": "code",
      "source": [
        "i=0\n",
        "while i<3:\n",
        "  print(\"%d: while문\" %i)\n",
        "  i=i+1"
      ],
      "metadata": {
        "id": "TRO-eIlmDMcO",
        "colab": {
          "base_uri": "https://localhost:8080/"
        },
        "outputId": "9a25ba5a-2c45-4de0-dbbe-625523420bce"
      },
      "execution_count": null,
      "outputs": [
        {
          "output_type": "stream",
          "name": "stdout",
          "text": [
            "0: while문\n",
            "1: while문\n",
            "2: while문\n"
          ]
        }
      ]
    },
    {
      "cell_type": "code",
      "source": [
        "#0 1부터 10까지 합계를 while문으로\n",
        "i, hap = 0,0\n",
        "i= 1\n",
        "while i<11:\n",
        "  hap = hap+i\n",
        "  i=i+1\n",
        "\n",
        "print(\"1부터 10까지의 합계 : %d\" %hap)"
      ],
      "metadata": {
        "colab": {
          "base_uri": "https://localhost:8080/"
        },
        "id": "DsGzsQa8DZ7C",
        "outputId": "1a13c1dc-25b5-4705-f49a-d5435b324b87"
      },
      "execution_count": null,
      "outputs": [
        {
          "output_type": "stream",
          "name": "stdout",
          "text": [
            "1부터 10까지의 합계 : 55\n"
          ]
        }
      ]
    },
    {
      "cell_type": "code",
      "source": [
        "# Q 1부터 10까지의 합계를 for문으로\n",
        "i, hap= 0,0\n",
        "for i in range(1,11,1):\n",
        "  hap = hap+i\n",
        "print(\"1부터 10까지의 합계 : %d\" %hap)"
      ],
      "metadata": {
        "id": "7TuBA75yDpzl"
      },
      "execution_count": null,
      "outputs": []
    },
    {
      "cell_type": "code",
      "source": [
        "#while True:\n",
        "print(\"무한 루프ㅠㅠ\", end='')"
      ],
      "metadata": {
        "id": "kOXV-r9aEMYx"
      },
      "execution_count": null,
      "outputs": []
    },
    {
      "cell_type": "code",
      "source": [
        "# break\n",
        "for i in range(1,100):\n",
        "  print(\"for문에 %d번 실행\" %i)\n",
        "  break\n",
        "print(\"break 빠짐\")"
      ],
      "metadata": {
        "id": "xxl6reU0E7u7"
      },
      "execution_count": null,
      "outputs": []
    },
    {
      "cell_type": "markdown",
      "source": [],
      "metadata": {
        "id": "GWjN19Qs__Uw"
      }
    },
    {
      "cell_type": "code",
      "source": [
        "hap = 0\n",
        "a,b = 0,0\n",
        "while True:\n",
        "  a= int(input(\"덧셈 첫번째 입력 : \"))\n",
        "  if a==0:\n",
        "    break\n",
        "  b= int(input(\"덧셈 두번째 입력 : \"))\n",
        "  hap= a + b\n",
        "  print( \"%d + %d = %d\" %(a,b,hap))\n",
        "print(\"break로 탈출\")"
      ],
      "metadata": {
        "id": "byPDrWw-FXrm"
      },
      "execution_count": null,
      "outputs": []
    },
    {
      "cell_type": "code",
      "source": [
        "# continue\n",
        "hap, i = 0,0\n",
        "for i in range(1,11):\n",
        "  if i % 2 == 0:\n",
        "    print(\"i:%d\" %i)\n",
        "    continue\n",
        "  hap += i \n",
        "print(\"1~100 합계 (3의 배수 제외): %d\" %hap)"
      ],
      "metadata": {
        "id": "RVEPy0X5GZhG"
      },
      "execution_count": null,
      "outputs": []
    },
    {
      "cell_type": "code",
      "source": [
        "# continue\n",
        "hap, i = 0,0\n",
        "for i in range(1,101):\n",
        "  if i % 3 ==0:\n",
        "    print(\"i:%d\" %i)\n",
        "    continue\n",
        "  hap += i\n",
        "\n",
        "print(\"1~100 합계(2의 배수 제외): %d\" %hap )"
      ],
      "metadata": {
        "id": "83375K0ZIE9W"
      },
      "execution_count": null,
      "outputs": []
    },
    {
      "cell_type": "code",
      "source": [
        "fruits = [\"사과\",\"바나나\",\"체리\"]\n",
        "for x in fruits:\n",
        "  if x == \"바나나\":\n",
        "    continue\n",
        "  print(x)"
      ],
      "metadata": {
        "id": "FuFSn8iFIN34"
      },
      "execution_count": null,
      "outputs": []
    },
    {
      "cell_type": "code",
      "source": [
        "for x in range(6):\n",
        "  print(x)\n",
        "else:\n",
        "  print(\"끝\")"
      ],
      "metadata": {
        "id": "AHkzQhepIoBe"
      },
      "execution_count": null,
      "outputs": []
    },
    {
      "cell_type": "code",
      "source": [
        "for x in range(6):\n",
        "  if x == 3: break\n",
        "  print(x)\n",
        "else:\n",
        "  print(\"끝\")"
      ],
      "metadata": {
        "id": "NeA603kjJHo9"
      },
      "execution_count": null,
      "outputs": []
    },
    {
      "cell_type": "code",
      "source": [
        "#for문 루프는 비워 둘수 없음\n",
        "for x in [0,1,2]:\n",
        "  pass"
      ],
      "metadata": {
        "id": "pVVIqix_KFRt"
      },
      "execution_count": null,
      "outputs": []
    },
    {
      "cell_type": "markdown",
      "source": [
        "두수를 더하는 함수\n",
        "def plus(v1,v2):"
      ],
      "metadata": {
        "id": "A4Jsn8vRLxrl"
      }
    },
    {
      "cell_type": "code",
      "source": [
        "#두수를 더하는 함수\n",
        "def plus(v1,v2):\n",
        "  result=0\n",
        "  result= v1+v2\n",
        "  return result\n",
        "\n",
        "  hap=0\n",
        "  hap=plus(10,20)\n",
        "  print(\"10+20plus() 처리 결과는 %d\" %hap)\n",
        "  hap=plus(20,30)\n",
        "  print(\"20+30plus() 처리 결과는 %d\" %hap)\n",
        "  "
      ],
      "metadata": {
        "id": "mw_QkbPoMPbD"
      },
      "execution_count": null,
      "outputs": []
    },
    {
      "cell_type": "code",
      "source": [
        "# 계산기 코드\n",
        "def calc(v1, v2, op):\n",
        "  result = 0\n",
        "  if op == '+':\n",
        "\n",
        "    result = v1 + v2\n",
        "  elif op == \"-\":\n",
        "    result = v1 - v2\n",
        "  elif op == '*':\n",
        "    result = v1 * v2\n",
        "  elif op == '/':\n",
        "    result = v1 / v2\n",
        "  return result\n",
        "\n",
        "\n",
        "rst = 0\n",
        "var1, var2, opr = 0,0,\"\"\n",
        "\n",
        "opr = input(\"+,-,*,/ 입력:\")\n",
        "var1 = int(input(\"1번째 수 입력\"))\n",
        "var2 = int(input(\"두번째 수 입력\"))\n",
        "rst = calc(var1,var2, opr)\n",
        "\n",
        "print(\"계산기 %d %s %d = %d\" %(var1, opr, var2, rst))"
      ],
      "metadata": {
        "id": "VImy6mOrNG5N"
      },
      "execution_count": null,
      "outputs": []
    },
    {
      "cell_type": "markdown",
      "source": [
        "# Q 0으로 나누려고하면 메시지 출력 계산 되지 않게, ** 제곱 연산자 추가(숫자 1, 연산자, 숫자2) 계산기 함수 만들기\n"
      ],
      "metadata": {
        "id": "kb_xZYKEQEnq"
      }
    },
    {
      "cell_type": "code",
      "source": [
        "# 계산기 \n",
        "rst = 0\n",
        "var1, var2, opr = 0,0,\"\"\n",
        "while True:\n",
        "  var1 = int(input(\"1번째 숫자 입력: \"))\n",
        "  opr = input(\"(+, -, /, *, **)입력: \")\n",
        "  var2 = int(input(\"2번째 숫자 입력: \"))\n",
        "  if opr == '/':\n",
        "    if var2==0:  # 나누는 수가 0이면 종료지정.\n",
        "      print(\"계산기가 종료되었습니다.\")\n",
        "      break\n",
        "  def calc(v1,v2,op):\n",
        "    result = 0\n",
        "    if op == '+':\n",
        "      result = v1 + v2\n",
        "    elif op == '-':\n",
        "      result = v1 - v2\n",
        "    elif op == '/':   \n",
        "      result = v1 / v2\n",
        "    elif op == '*':\n",
        "      result = v1 * v2\n",
        "    elif op == '**':\n",
        "      result = v1 ** v2\n",
        "    return result\n",
        "  rst = calc(var1,var2, opr)\n",
        "  print(\"계산결과 %d %s %d = %d\" % (var1,opr,var2,rst))\n",
        "  break "
      ],
      "metadata": {
        "id": "JFG5m7moW1w-",
        "colab": {
          "base_uri": "https://localhost:8080/"
        },
        "outputId": "3143cabe-d0ea-4e14-c881-f1bbc80ab71d"
      },
      "execution_count": null,
      "outputs": [
        {
          "output_type": "stream",
          "name": "stdout",
          "text": [
            "1번째 숫자 입력: 1\n",
            "(+, -, /, *, **)입력: +\n",
            "2번째 숫자 입력: 7\n",
            "계산결과 1 + 7 = 8\n"
          ]
        }
      ]
    },
    {
      "cell_type": "code",
      "source": [
        "#전역 변수와 지역변수\n",
        "def func1():\n",
        "  a = 10 #지역변수\n",
        "  print(\"func1()에서 a값 %d\" %a)\n",
        "\n",
        "def func2():\n",
        "  print(\"func2()에서 a값 %d\" %a)\n",
        "\n",
        "a = 20 #전역변수\n",
        "\n",
        "func1()\n",
        "func2()"
      ],
      "metadata": {
        "id": "wgvxViaMQ__q"
      },
      "execution_count": null,
      "outputs": []
    },
    {
      "cell_type": "markdown",
      "source": [
        "# Ch5 파일 처리\n",
        "\"r\" read\n",
        "\"a\" append\n",
        "\"w\" write\n",
        "\"x\" create\n",
        "\"t\" text\n",
        "\"b\" binary"
      ],
      "metadata": {
        "id": "n7PkVwNWv4Xq"
      }
    },
    {
      "cell_type": "code",
      "source": [
        "# w\n",
        "from google.colab import files\n",
        "# 생성된 파일이 없을 때 사용. 이미 있으면 에러가 남.\n",
        "\n",
        "f = open(\"a.txt\",'w')\n",
        "f.write(\"12345\")\n",
        "f.close\n",
        "\n",
        "f = open(\"a.txt\",'w')\n",
        "f.write(\"abcde\")\n",
        "f.close\n",
        "\n",
        "files.download('a.txt')"
      ],
      "metadata": {
        "colab": {
          "base_uri": "https://localhost:8080/",
          "height": 17
        },
        "id": "3EAHVxbkwSov",
        "outputId": "e719de6d-f09f-4bc4-bc93-1912a4e65a68"
      },
      "execution_count": null,
      "outputs": [
        {
          "output_type": "display_data",
          "data": {
            "text/plain": [
              "<IPython.core.display.Javascript object>"
            ],
            "application/javascript": [
              "\n",
              "    async function download(id, filename, size) {\n",
              "      if (!google.colab.kernel.accessAllowed) {\n",
              "        return;\n",
              "      }\n",
              "      const div = document.createElement('div');\n",
              "      const label = document.createElement('label');\n",
              "      label.textContent = `Downloading \"${filename}\": `;\n",
              "      div.appendChild(label);\n",
              "      const progress = document.createElement('progress');\n",
              "      progress.max = size;\n",
              "      div.appendChild(progress);\n",
              "      document.body.appendChild(div);\n",
              "\n",
              "      const buffers = [];\n",
              "      let downloaded = 0;\n",
              "\n",
              "      const channel = await google.colab.kernel.comms.open(id);\n",
              "      // Send a message to notify the kernel that we're ready.\n",
              "      channel.send({})\n",
              "\n",
              "      for await (const message of channel.messages) {\n",
              "        // Send a message to notify the kernel that we're ready.\n",
              "        channel.send({})\n",
              "        if (message.buffers) {\n",
              "          for (const buffer of message.buffers) {\n",
              "            buffers.push(buffer);\n",
              "            downloaded += buffer.byteLength;\n",
              "            progress.value = downloaded;\n",
              "          }\n",
              "        }\n",
              "      }\n",
              "      const blob = new Blob(buffers, {type: 'application/binary'});\n",
              "      const a = document.createElement('a');\n",
              "      a.href = window.URL.createObjectURL(blob);\n",
              "      a.download = filename;\n",
              "      div.appendChild(a);\n",
              "      a.click();\n",
              "      div.remove();\n",
              "    }\n",
              "  "
            ]
          },
          "metadata": {}
        },
        {
          "output_type": "display_data",
          "data": {
            "text/plain": [
              "<IPython.core.display.Javascript object>"
            ],
            "application/javascript": [
              "download(\"download_537c24a7-ea80-4949-a51d-2cd537251f65\", \"a.txt\", 5)"
            ]
          },
          "metadata": {}
        }
      ]
    },
    {
      "cell_type": "code",
      "source": [
        "from google.colab import files\n",
        "\n",
        "f = open(\"a.txt\",'w')\n",
        "f.write(\"12345\")\n",
        "f.close()\n",
        "\n",
        "f = open(\"a.txt\",'a')\n",
        "f.write(\"6789\")\n",
        "f.close()\n",
        "\n",
        "files.download('a.txt')"
      ],
      "metadata": {
        "colab": {
          "base_uri": "https://localhost:8080/",
          "height": 17
        },
        "id": "ytwRVVIDx-Vx",
        "outputId": "01d2a640-dc31-42b6-cdd9-7e02c534321f"
      },
      "execution_count": null,
      "outputs": [
        {
          "output_type": "display_data",
          "data": {
            "text/plain": [
              "<IPython.core.display.Javascript object>"
            ],
            "application/javascript": [
              "\n",
              "    async function download(id, filename, size) {\n",
              "      if (!google.colab.kernel.accessAllowed) {\n",
              "        return;\n",
              "      }\n",
              "      const div = document.createElement('div');\n",
              "      const label = document.createElement('label');\n",
              "      label.textContent = `Downloading \"${filename}\": `;\n",
              "      div.appendChild(label);\n",
              "      const progress = document.createElement('progress');\n",
              "      progress.max = size;\n",
              "      div.appendChild(progress);\n",
              "      document.body.appendChild(div);\n",
              "\n",
              "      const buffers = [];\n",
              "      let downloaded = 0;\n",
              "\n",
              "      const channel = await google.colab.kernel.comms.open(id);\n",
              "      // Send a message to notify the kernel that we're ready.\n",
              "      channel.send({})\n",
              "\n",
              "      for await (const message of channel.messages) {\n",
              "        // Send a message to notify the kernel that we're ready.\n",
              "        channel.send({})\n",
              "        if (message.buffers) {\n",
              "          for (const buffer of message.buffers) {\n",
              "            buffers.push(buffer);\n",
              "            downloaded += buffer.byteLength;\n",
              "            progress.value = downloaded;\n",
              "          }\n",
              "        }\n",
              "      }\n",
              "      const blob = new Blob(buffers, {type: 'application/binary'});\n",
              "      const a = document.createElement('a');\n",
              "      a.href = window.URL.createObjectURL(blob);\n",
              "      a.download = filename;\n",
              "      div.appendChild(a);\n",
              "      a.click();\n",
              "      div.remove();\n",
              "    }\n",
              "  "
            ]
          },
          "metadata": {}
        },
        {
          "output_type": "display_data",
          "data": {
            "text/plain": [
              "<IPython.core.display.Javascript object>"
            ],
            "application/javascript": [
              "download(\"download_4a397f5f-c3dd-4307-87d6-3d7d3213b68a\", \"a.txt\", 9)"
            ]
          },
          "metadata": {}
        }
      ]
    },
    {
      "cell_type": "code",
      "source": [
        "from google.colab import files\n",
        "\n",
        "f = open(\"b.txt\",'x')\n",
        "f.write(\"abcde\")\n",
        "f.close()\n",
        "\n",
        "files.download('b.txt')"
      ],
      "metadata": {
        "colab": {
          "base_uri": "https://localhost:8080/",
          "height": 17
        },
        "id": "4oljhnEKy0tV",
        "outputId": "92118c7d-3bf1-456a-b472-1c9a4b4a8079"
      },
      "execution_count": null,
      "outputs": [
        {
          "output_type": "display_data",
          "data": {
            "text/plain": [
              "<IPython.core.display.Javascript object>"
            ],
            "application/javascript": [
              "\n",
              "    async function download(id, filename, size) {\n",
              "      if (!google.colab.kernel.accessAllowed) {\n",
              "        return;\n",
              "      }\n",
              "      const div = document.createElement('div');\n",
              "      const label = document.createElement('label');\n",
              "      label.textContent = `Downloading \"${filename}\": `;\n",
              "      div.appendChild(label);\n",
              "      const progress = document.createElement('progress');\n",
              "      progress.max = size;\n",
              "      div.appendChild(progress);\n",
              "      document.body.appendChild(div);\n",
              "\n",
              "      const buffers = [];\n",
              "      let downloaded = 0;\n",
              "\n",
              "      const channel = await google.colab.kernel.comms.open(id);\n",
              "      // Send a message to notify the kernel that we're ready.\n",
              "      channel.send({})\n",
              "\n",
              "      for await (const message of channel.messages) {\n",
              "        // Send a message to notify the kernel that we're ready.\n",
              "        channel.send({})\n",
              "        if (message.buffers) {\n",
              "          for (const buffer of message.buffers) {\n",
              "            buffers.push(buffer);\n",
              "            downloaded += buffer.byteLength;\n",
              "            progress.value = downloaded;\n",
              "          }\n",
              "        }\n",
              "      }\n",
              "      const blob = new Blob(buffers, {type: 'application/binary'});\n",
              "      const a = document.createElement('a');\n",
              "      a.href = window.URL.createObjectURL(blob);\n",
              "      a.download = filename;\n",
              "      div.appendChild(a);\n",
              "      a.click();\n",
              "      div.remove();\n",
              "    }\n",
              "  "
            ]
          },
          "metadata": {}
        },
        {
          "output_type": "display_data",
          "data": {
            "text/plain": [
              "<IPython.core.display.Javascript object>"
            ],
            "application/javascript": [
              "download(\"download_26a36a54-c5ea-4acd-a2bf-0394ea07e6f1\", \"b.txt\", 5)"
            ]
          },
          "metadata": {}
        }
      ]
    },
    {
      "cell_type": "code",
      "source": [
        "from google.colab import files\n",
        "\n",
        "f = open(\"b.txt\",'x')\n",
        "f.write(\"abcde\")\n",
        "f.close()\n",
        "\n",
        "files.download('b.txt')"
      ],
      "metadata": {
        "id": "il-zVnaSzGlx"
      },
      "execution_count": null,
      "outputs": []
    },
    {
      "cell_type": "code",
      "source": [
        "# 여러줄 내용 입력\n",
        "from google.colab import files\n",
        "f = open(\"a.txt\",'w')\n",
        "f.write(\"123456789\\n987654321\\nabcde\")\n",
        "f.close()\n",
        "\n",
        "files.download('a.txt')"
      ],
      "metadata": {
        "colab": {
          "base_uri": "https://localhost:8080/",
          "height": 17
        },
        "id": "l1axRoIzzm-b",
        "outputId": "901eefa2-f374-4289-8318-5e5234cad65a"
      },
      "execution_count": null,
      "outputs": [
        {
          "output_type": "display_data",
          "data": {
            "text/plain": [
              "<IPython.core.display.Javascript object>"
            ],
            "application/javascript": [
              "\n",
              "    async function download(id, filename, size) {\n",
              "      if (!google.colab.kernel.accessAllowed) {\n",
              "        return;\n",
              "      }\n",
              "      const div = document.createElement('div');\n",
              "      const label = document.createElement('label');\n",
              "      label.textContent = `Downloading \"${filename}\": `;\n",
              "      div.appendChild(label);\n",
              "      const progress = document.createElement('progress');\n",
              "      progress.max = size;\n",
              "      div.appendChild(progress);\n",
              "      document.body.appendChild(div);\n",
              "\n",
              "      const buffers = [];\n",
              "      let downloaded = 0;\n",
              "\n",
              "      const channel = await google.colab.kernel.comms.open(id);\n",
              "      // Send a message to notify the kernel that we're ready.\n",
              "      channel.send({})\n",
              "\n",
              "      for await (const message of channel.messages) {\n",
              "        // Send a message to notify the kernel that we're ready.\n",
              "        channel.send({})\n",
              "        if (message.buffers) {\n",
              "          for (const buffer of message.buffers) {\n",
              "            buffers.push(buffer);\n",
              "            downloaded += buffer.byteLength;\n",
              "            progress.value = downloaded;\n",
              "          }\n",
              "        }\n",
              "      }\n",
              "      const blob = new Blob(buffers, {type: 'application/binary'});\n",
              "      const a = document.createElement('a');\n",
              "      a.href = window.URL.createObjectURL(blob);\n",
              "      a.download = filename;\n",
              "      div.appendChild(a);\n",
              "      a.click();\n",
              "      div.remove();\n",
              "    }\n",
              "  "
            ]
          },
          "metadata": {}
        },
        {
          "output_type": "display_data",
          "data": {
            "text/plain": [
              "<IPython.core.display.Javascript object>"
            ],
            "application/javascript": [
              "download(\"download_0e177646-b167-4901-9e7c-92f8f091f0b8\", \"a.txt\", 25)"
            ]
          },
          "metadata": {}
        }
      ]
    },
    {
      "cell_type": "code",
      "source": [
        "# 여러줄 내용 입력\n",
        "from google.colab import files\n",
        "f = open(\"a.txt\",'w')\n",
        "f.write(\"123456789\\n987654321\\nabcde\")\n",
        "f.write(\"\"\"1234\n",
        "4567\n",
        "890\"\"\")\n",
        "f.close()\n",
        "\n",
        "files.download('a.txt')"
      ],
      "metadata": {
        "colab": {
          "base_uri": "https://localhost:8080/",
          "height": 17
        },
        "id": "UtlAEl-b0CXw",
        "outputId": "6bdf9d37-d3fb-4ed2-850a-3ad76bc335fc"
      },
      "execution_count": null,
      "outputs": [
        {
          "output_type": "display_data",
          "data": {
            "text/plain": [
              "<IPython.core.display.Javascript object>"
            ],
            "application/javascript": [
              "\n",
              "    async function download(id, filename, size) {\n",
              "      if (!google.colab.kernel.accessAllowed) {\n",
              "        return;\n",
              "      }\n",
              "      const div = document.createElement('div');\n",
              "      const label = document.createElement('label');\n",
              "      label.textContent = `Downloading \"${filename}\": `;\n",
              "      div.appendChild(label);\n",
              "      const progress = document.createElement('progress');\n",
              "      progress.max = size;\n",
              "      div.appendChild(progress);\n",
              "      document.body.appendChild(div);\n",
              "\n",
              "      const buffers = [];\n",
              "      let downloaded = 0;\n",
              "\n",
              "      const channel = await google.colab.kernel.comms.open(id);\n",
              "      // Send a message to notify the kernel that we're ready.\n",
              "      channel.send({})\n",
              "\n",
              "      for await (const message of channel.messages) {\n",
              "        // Send a message to notify the kernel that we're ready.\n",
              "        channel.send({})\n",
              "        if (message.buffers) {\n",
              "          for (const buffer of message.buffers) {\n",
              "            buffers.push(buffer);\n",
              "            downloaded += buffer.byteLength;\n",
              "            progress.value = downloaded;\n",
              "          }\n",
              "        }\n",
              "      }\n",
              "      const blob = new Blob(buffers, {type: 'application/binary'});\n",
              "      const a = document.createElement('a');\n",
              "      a.href = window.URL.createObjectURL(blob);\n",
              "      a.download = filename;\n",
              "      div.appendChild(a);\n",
              "      a.click();\n",
              "      div.remove();\n",
              "    }\n",
              "  "
            ]
          },
          "metadata": {}
        },
        {
          "output_type": "display_data",
          "data": {
            "text/plain": [
              "<IPython.core.display.Javascript object>"
            ],
            "application/javascript": [
              "download(\"download_4f009ccc-b97c-4664-a41f-07c66964d72c\", \"a.txt\", 40)"
            ]
          },
          "metadata": {}
        }
      ]
    },
    {
      "cell_type": "code",
      "source": [
        "#리스트, 튜플 내용을 입력\n",
        "from google.colab import files\n",
        "\n",
        "t = (\"1\",\"2\",\"3\",\"4\",\"\\n\")\n",
        "l = [\"a\",\"b\",\"c\",\"d\"]\n",
        "t = open(\"a.txt\",'w')\n",
        "for i in range(0,5):\n",
        "f.writelines(t)\n",
        "f.writelines(l)\n",
        "f.close()\n",
        "\n",
        "files.download('a.txt')"
      ],
      "metadata": {
        "colab": {
          "base_uri": "https://localhost:8080/",
          "height": 245
        },
        "id": "jkhb3o680ijm",
        "outputId": "c3d0e5de-b04f-49ab-8dcf-5b9e6a55bbd9"
      },
      "execution_count": null,
      "outputs": [
        {
          "output_type": "error",
          "ename": "TypeError",
          "evalue": "ignored",
          "traceback": [
            "\u001b[0;31m---------------------------------------------------------------------------\u001b[0m",
            "\u001b[0;31mTypeError\u001b[0m                                 Traceback (most recent call last)",
            "\u001b[0;32m<ipython-input-25-246a0269e224>\u001b[0m in \u001b[0;36m<cell line: 7>\u001b[0;34m()\u001b[0m\n\u001b[1;32m      6\u001b[0m \u001b[0mt\u001b[0m \u001b[0;34m=\u001b[0m \u001b[0mopen\u001b[0m\u001b[0;34m(\u001b[0m\u001b[0;34m\"a.txt\"\u001b[0m\u001b[0;34m,\u001b[0m\u001b[0;34m'w'\u001b[0m\u001b[0;34m)\u001b[0m\u001b[0;34m\u001b[0m\u001b[0;34m\u001b[0m\u001b[0m\n\u001b[1;32m      7\u001b[0m \u001b[0;32mfor\u001b[0m \u001b[0mi\u001b[0m \u001b[0;32min\u001b[0m \u001b[0mrange\u001b[0m\u001b[0;34m(\u001b[0m\u001b[0;36m0\u001b[0m\u001b[0;34m,\u001b[0m\u001b[0;36m5\u001b[0m\u001b[0;34m)\u001b[0m\u001b[0;34m:\u001b[0m\u001b[0;34m\u001b[0m\u001b[0;34m\u001b[0m\u001b[0m\n\u001b[0;32m----> 8\u001b[0;31m   \u001b[0mf\u001b[0m\u001b[0;34m.\u001b[0m\u001b[0mwritelines\u001b[0m\u001b[0;34m(\u001b[0m\u001b[0mt\u001b[0m\u001b[0;34m[\u001b[0m\u001b[0mi\u001b[0m\u001b[0;34m]\u001b[0m\u001b[0;34m)\u001b[0m\u001b[0;34m\u001b[0m\u001b[0;34m\u001b[0m\u001b[0m\n\u001b[0m\u001b[1;32m      9\u001b[0m \u001b[0mf\u001b[0m\u001b[0;34m.\u001b[0m\u001b[0mwritelines\u001b[0m\u001b[0;34m(\u001b[0m\u001b[0ml\u001b[0m\u001b[0;34m)\u001b[0m\u001b[0;34m\u001b[0m\u001b[0;34m\u001b[0m\u001b[0m\n\u001b[1;32m     10\u001b[0m \u001b[0mf\u001b[0m\u001b[0;34m.\u001b[0m\u001b[0mclose\u001b[0m\u001b[0;34m(\u001b[0m\u001b[0;34m)\u001b[0m\u001b[0;34m\u001b[0m\u001b[0;34m\u001b[0m\u001b[0m\n",
            "\u001b[0;31mTypeError\u001b[0m: '_io.TextIOWrapper' object is not subscriptable"
          ]
        }
      ]
    },
    {
      "cell_type": "markdown",
      "source": [],
      "metadata": {
        "id": "eijJ22TI1zBi"
      }
    },
    {
      "cell_type": "code",
      "source": [
        "# read 모드로 파일 열기\n",
        "from google.colab import files\n",
        "\n",
        "f= open( \"a.txt\", 'w')\n",
        "f.write(\"1234\")\n",
        "f.close()\n",
        "\n",
        "f= open(\"a.txt\",'r')\n",
        "print(f.read())\n",
        "f.close\n",
        "\n",
        "files.download('a.txt')"
      ],
      "metadata": {
        "colab": {
          "base_uri": "https://localhost:8080/",
          "height": 35
        },
        "id": "Y_aa3GoT1zbL",
        "outputId": "710b1384-115c-41af-8212-49dd32c4cb3f"
      },
      "execution_count": null,
      "outputs": [
        {
          "output_type": "stream",
          "name": "stdout",
          "text": [
            "1234\n"
          ]
        },
        {
          "output_type": "display_data",
          "data": {
            "text/plain": [
              "<IPython.core.display.Javascript object>"
            ],
            "application/javascript": [
              "\n",
              "    async function download(id, filename, size) {\n",
              "      if (!google.colab.kernel.accessAllowed) {\n",
              "        return;\n",
              "      }\n",
              "      const div = document.createElement('div');\n",
              "      const label = document.createElement('label');\n",
              "      label.textContent = `Downloading \"${filename}\": `;\n",
              "      div.appendChild(label);\n",
              "      const progress = document.createElement('progress');\n",
              "      progress.max = size;\n",
              "      div.appendChild(progress);\n",
              "      document.body.appendChild(div);\n",
              "\n",
              "      const buffers = [];\n",
              "      let downloaded = 0;\n",
              "\n",
              "      const channel = await google.colab.kernel.comms.open(id);\n",
              "      // Send a message to notify the kernel that we're ready.\n",
              "      channel.send({})\n",
              "\n",
              "      for await (const message of channel.messages) {\n",
              "        // Send a message to notify the kernel that we're ready.\n",
              "        channel.send({})\n",
              "        if (message.buffers) {\n",
              "          for (const buffer of message.buffers) {\n",
              "            buffers.push(buffer);\n",
              "            downloaded += buffer.byteLength;\n",
              "            progress.value = downloaded;\n",
              "          }\n",
              "        }\n",
              "      }\n",
              "      const blob = new Blob(buffers, {type: 'application/binary'});\n",
              "      const a = document.createElement('a');\n",
              "      a.href = window.URL.createObjectURL(blob);\n",
              "      a.download = filename;\n",
              "      div.appendChild(a);\n",
              "      a.click();\n",
              "      div.remove();\n",
              "    }\n",
              "  "
            ]
          },
          "metadata": {}
        },
        {
          "output_type": "display_data",
          "data": {
            "text/plain": [
              "<IPython.core.display.Javascript object>"
            ],
            "application/javascript": [
              "download(\"download_16ef7af2-4955-4b78-93ad-ca12f059c1d1\", \"a.txt\", 4)"
            ]
          },
          "metadata": {}
        }
      ]
    },
    {
      "cell_type": "code",
      "source": [
        "# readline() 함수 : 한줄씩 가져옴\n",
        "f=open(\"a.txt\",'r')\n",
        "f.write(\"1234\")\n",
        "print(f.readline()) #라인을 첫째줄을 읽었다.\n",
        "print(f.readline()) #라인을 두번 읽었다.\n",
        "f.close()"
      ],
      "metadata": {
        "colab": {
          "base_uri": "https://localhost:8080/",
          "height": 245
        },
        "id": "KtgAHbcF2bwx",
        "outputId": "3393eef7-0706-4e9a-f5b0-e0d6aeb499a1"
      },
      "execution_count": null,
      "outputs": [
        {
          "output_type": "error",
          "ename": "UnsupportedOperation",
          "evalue": "ignored",
          "traceback": [
            "\u001b[0;31m---------------------------------------------------------------------------\u001b[0m",
            "\u001b[0;31mUnsupportedOperation\u001b[0m                      Traceback (most recent call last)",
            "\u001b[0;32m<ipython-input-33-06271c70263c>\u001b[0m in \u001b[0;36m<cell line: 3>\u001b[0;34m()\u001b[0m\n\u001b[1;32m      1\u001b[0m \u001b[0;31m# readline() 함수 : 한줄씩 가져옴\u001b[0m\u001b[0;34m\u001b[0m\u001b[0;34m\u001b[0m\u001b[0m\n\u001b[1;32m      2\u001b[0m \u001b[0mf\u001b[0m\u001b[0;34m=\u001b[0m\u001b[0mopen\u001b[0m\u001b[0;34m(\u001b[0m\u001b[0;34m\"a.txt\"\u001b[0m\u001b[0;34m,\u001b[0m\u001b[0;34m'r'\u001b[0m\u001b[0;34m)\u001b[0m\u001b[0;34m\u001b[0m\u001b[0;34m\u001b[0m\u001b[0m\n\u001b[0;32m----> 3\u001b[0;31m \u001b[0mf\u001b[0m\u001b[0;34m.\u001b[0m\u001b[0mwrite\u001b[0m\u001b[0;34m(\u001b[0m\u001b[0;34m\"1234\\nabcde\\n7890\"\u001b[0m\u001b[0;34m)\u001b[0m\u001b[0;34m\u001b[0m\u001b[0;34m\u001b[0m\u001b[0m\n\u001b[0m\u001b[1;32m      4\u001b[0m \u001b[0mf\u001b[0m\u001b[0;34m.\u001b[0m\u001b[0mclose\u001b[0m\u001b[0;34m(\u001b[0m\u001b[0;34m)\u001b[0m\u001b[0;34m\u001b[0m\u001b[0;34m\u001b[0m\u001b[0m\n\u001b[1;32m      5\u001b[0m \u001b[0;34m\u001b[0m\u001b[0m\n",
            "\u001b[0;31mUnsupportedOperation\u001b[0m: not writable"
          ]
        }
      ]
    },
    {
      "cell_type": "code",
      "source": [
        "from google.colab import files\n",
        "\n",
        "import os\n",
        "if os.path.exists(\"a.txt\"):\n",
        "  os.remove(\"a.txt\") #os.rmdir(\"folder\")  \n",
        "else :\n",
        "  print(\"파일이 없음\")"
      ],
      "metadata": {
        "id": "ckqA7dg78tI0"
      },
      "execution_count": null,
      "outputs": []
    },
    {
      "cell_type": "code",
      "source": [
        "from google.colab import files\n",
        "import os\n",
        "\n",
        "print(os.listdir('.'))\n",
        "os.rename(\"b.txt\",\"a.txt\")\n",
        "print(os.listdir('.'))"
      ],
      "metadata": {
        "colab": {
          "base_uri": "https://localhost:8080/"
        },
        "id": "qhT8mC4l9uNZ",
        "outputId": "c8270db9-9f57-4e2e-c6ef-0ad21f6607fe"
      },
      "execution_count": null,
      "outputs": [
        {
          "output_type": "stream",
          "name": "stdout",
          "text": [
            "['.config', 'b.txt', '.ipynb_checkpoints', 'sample_data']\n",
            "['.config', 'a.txt', '.ipynb_checkpoints', 'sample_data']\n"
          ]
        }
      ]
    },
    {
      "cell_type": "code",
      "source": [
        "from google.colab import files\n",
        "import os\n",
        "#file 존재 유무 확인\n",
        "print(os.path.exists('a.txt'))\n",
        "print(os.path.exists('b.txt'))"
      ],
      "metadata": {
        "colab": {
          "base_uri": "https://localhost:8080/"
        },
        "id": "uLQGGP_A-zd1",
        "outputId": "4a4e7012-7e8d-4076-9ff0-2498938d5d89"
      },
      "execution_count": null,
      "outputs": [
        {
          "output_type": "stream",
          "name": "stdout",
          "text": [
            "True\n",
            "False\n"
          ]
        }
      ]
    },
    {
      "cell_type": "code",
      "source": [
        "#구구단 파일로 저장\n",
        "from google.colab import files\n",
        "import sys\n",
        "\n",
        "f = open(\"a.txt\",'w',encoding='utf8') # euc-kr\n",
        "sys.stdout=f \n",
        "for i in range(2,10):\n",
        "  for j in range(1,10):\n",
        "    print(\"{} x {} = {}\".format(i,j,i*j))\n",
        "  print()\n",
        "f.close()\n",
        "\n",
        "files.download('a.txt')"
      ],
      "metadata": {
        "id": "omzKox1I_b3v"
      },
      "execution_count": null,
      "outputs": []
    },
    {
      "cell_type": "code",
      "source": [
        "from google.colab import files\n",
        "f= open(\"c.txt\",\"w\",encoding='utf8')\n",
        "f.write(\" 동해물과 백두산이 마르고 닳도록\\n안녕하세용? ^___^\\nHELLO WORLD!\")\n",
        "f.close()\n",
        "\n",
        "f.open(\"c.txt\",'r',encoding='utf8')\n",
        "lines = f.readlines()\n",
        "for line in range:\n",
        "  print(line, end='')\n",
        "f.close()\n",
        "\n",
        "files.download('c.txt')"
      ],
      "metadata": {
        "colab": {
          "base_uri": "https://localhost:8080/",
          "height": 250
        },
        "id": "E8TEkMjn_b1p",
        "outputId": "01000245-082d-4ca7-b838-4429a13dd964"
      },
      "execution_count": null,
      "outputs": [
        {
          "output_type": "error",
          "ename": "AttributeError",
          "evalue": "ignored",
          "traceback": [
            "\u001b[0;31m---------------------------------------------------------------------------\u001b[0m",
            "\u001b[0;31mAttributeError\u001b[0m                            Traceback (most recent call last)",
            "\u001b[0;32m<ipython-input-45-ff0f7c69c401>\u001b[0m in \u001b[0;36m<cell line: 6>\u001b[0;34m()\u001b[0m\n\u001b[1;32m      4\u001b[0m \u001b[0mf\u001b[0m\u001b[0;34m.\u001b[0m\u001b[0mclose\u001b[0m\u001b[0;34m(\u001b[0m\u001b[0;34m)\u001b[0m\u001b[0;34m\u001b[0m\u001b[0;34m\u001b[0m\u001b[0m\n\u001b[1;32m      5\u001b[0m \u001b[0;34m\u001b[0m\u001b[0m\n\u001b[0;32m----> 6\u001b[0;31m \u001b[0mf\u001b[0m\u001b[0;34m.\u001b[0m\u001b[0mopen\u001b[0m\u001b[0;34m(\u001b[0m\u001b[0;34m\"c.txt\"\u001b[0m\u001b[0;34m,\u001b[0m\u001b[0;34m'r'\u001b[0m\u001b[0;34m,\u001b[0m\u001b[0mencoding\u001b[0m\u001b[0;34m=\u001b[0m\u001b[0;34m'utf8'\u001b[0m\u001b[0;34m)\u001b[0m\u001b[0;34m\u001b[0m\u001b[0;34m\u001b[0m\u001b[0m\n\u001b[0m\u001b[1;32m      7\u001b[0m \u001b[0mlines\u001b[0m \u001b[0;34m=\u001b[0m \u001b[0mf\u001b[0m\u001b[0;34m.\u001b[0m\u001b[0mreadlines\u001b[0m\u001b[0;34m(\u001b[0m\u001b[0;34m)\u001b[0m\u001b[0;34m\u001b[0m\u001b[0;34m\u001b[0m\u001b[0m\n\u001b[1;32m      8\u001b[0m \u001b[0;32mfor\u001b[0m \u001b[0mline\u001b[0m \u001b[0;32min\u001b[0m \u001b[0mrange\u001b[0m\u001b[0;34m:\u001b[0m\u001b[0;34m\u001b[0m\u001b[0;34m\u001b[0m\u001b[0m\n",
            "\u001b[0;31mAttributeError\u001b[0m: '_io.TextIOWrapper' object has no attribute 'open'"
          ]
        }
      ]
    }
  ]
}
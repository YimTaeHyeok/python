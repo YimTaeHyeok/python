{
  "nbformat": 4,
  "nbformat_minor": 0,
  "metadata": {
    "colab": {
      "private_outputs": true,
      "provenance": [],
      "authorship_tag": "ABX9TyPLbyn0jDeiNl/GFClkon6T",
      "include_colab_link": true
    },
    "kernelspec": {
      "name": "python3",
      "display_name": "Python 3"
    },
    "language_info": {
      "name": "python"
    }
  },
  "cells": [
    {
      "cell_type": "markdown",
      "metadata": {
        "id": "view-in-github",
        "colab_type": "text"
      },
      "source": [
        "<a href=\"https://colab.research.google.com/github/YimTaeHyeok/python/blob/main/%ED%96%89%EC%A0%95%EC%95%88%EC%A0%84%EB%B6%80_%EC%A7%80%EC%A7%84%ED%95%B4%EC%9D%BC_%EA%B8%B4%EA%B8%89%EB%8C%80%ED%94%BC%EC%9E%A5%EC%86%8C.ipynb\" target=\"_parent\"><img src=\"https://colab.research.google.com/assets/colab-badge.svg\" alt=\"Open In Colab\"/></a>"
      ]
    },
    {
      "cell_type": "code",
      "source": [
        "import requests\n",
        "import xml.etree.ElementTree as ET\n",
        "import pandas as pd\n",
        "\n",
        "# API 요청\n",
        "url = 'http://apis.data.go.kr/1741000/TsunamiShelter3/getTsunamiShelter1List'\n",
        "params = {\n",
        "    'serviceKey': 'c2HFuOcc970t1N+vgA19SgEg+TRNLxhZ9SW4PEjm8Q7pIY7uH0r1U3jII8MKOcGmTb8mGhGDt+y9CGpOobQdfQ==',\n",
        "    'pageNo': '1',\n",
        "    'numOfRows': '100',\n",
        "    'type': 'xml'\n",
        "}\n",
        "\n",
        "response = requests.get(url, params=params)\n",
        "xml_data = response.content\n",
        "\n",
        "# XML 파싱\n",
        "root = ET.fromstring(xml_data)\n",
        "rows = root.findall('.//row')\n",
        "\n",
        "# 데이터 추출\n",
        "data = []\n",
        "for row in rows:\n",
        "    row_data = {}\n",
        "    for elem in row:\n",
        "        row_data[elem.tag] = elem.text\n",
        "    data.append(row_data)\n",
        "\n",
        "# DataFrame 생성\n",
        "df = pd.DataFrame(data)\n",
        "\n",
        "# 엑셀 파일로 저장\n",
        "df.to_excel('긴급대피장소.xlsx', index=False)\n",
        "df"
      ],
      "metadata": {
        "id": "vvKlNDGkHpFI"
      },
      "execution_count": null,
      "outputs": []
    },
    {
      "source": [
        "import altair as alt\n",
        "from google.colab import autoviz\n",
        "df_7020454672380658213 = autoviz.get_registered_df('df_7020454672380658213')\n",
        "\n",
        "def categorical_histogram(df, colname, width=100, height=50, colormap='dark2'):\n",
        "  chart_data = df[colname].value_counts().reset_index(name='count')\n",
        "  return (alt.Chart(chart_data).mark_bar()\n",
        "          .encode(\n",
        "              x='count', y=alt.Y('index', title=''),\n",
        "              color=alt.Color(\n",
        "                  'index', scale=alt.Scale(scheme=colormap), legend=None))\n",
        "          .properties(width=width, height=height, title=colname))  # Pixels.\n",
        "\n",
        "chart = categorical_histogram(df_7020454672380658213, *['sido_name'], **{})\n",
        "chart"
      ],
      "cell_type": "code",
      "metadata": {
        "id": "g1UUi8gPcr6S"
      },
      "execution_count": null,
      "outputs": []
    },
    {
      "source": [
        "import altair as alt\n",
        "import pandas as pd\n",
        "from google.colab import autoviz\n",
        "\n",
        "df_9050671076321759251 = autoviz.get_registered_df('df_9050671076321759251')\n",
        "\n",
        "def categorical_histogram(df, colname, width=1000, height=500, colormap='dark2'):\n",
        "    chart_data = df[colname].value_counts().reset_index(name='count')\n",
        "    total_count = chart_data['count'].sum()\n",
        "    chart_data = pd.concat([chart_data, pd.DataFrame({colname: ['Total'], 'count': [total_count]})])\n",
        "    \n",
        "    return (alt.Chart(chart_data).mark_bar()\n",
        "            .encode(\n",
        "                x='count', y=alt.Y('index', title='도시 별 긴급대피장소 개수'),\n",
        "                color=alt.Color('index', scale=alt.Scale(scheme=colormap), legend=None))\n",
        "            .properties(width=width, height=height, title=colname)\n",
        "            .configure_axis(labelFontSize=20))  # Increase the font size here\n",
        "\n",
        "chart = categorical_histogram(df_9050671076321759251, 'sido_name')\n",
        "chart\n"
      ],
      "cell_type": "code",
      "metadata": {
        "id": "fT8-e6rcBKmn"
      },
      "execution_count": null,
      "outputs": []
    },
    {
      "cell_type": "code",
      "source": [
        "import folium"
      ],
      "metadata": {
        "id": "eBew28T6SiaB"
      },
      "execution_count": null,
      "outputs": []
    },
    {
      "cell_type": "code",
      "source": [
        "import folium\n",
        "\n",
        "# 엑셀 파일에서 DataFrame 로드\n",
        "df = pd.read_excel('긴급대피장소.xlsx')\n",
        "\n",
        "# 맵 생성\n",
        "m = folium.Map(location=[36.574771602726265, 128.1882342420865], zoom_start=8)\n",
        "\n",
        "# DataFrame의 각 행에 대해 맵에 마커 추가\n",
        "for index, row in df.iterrows():\n",
        "    lat = float(row['lat'])  # 위도 값 추출\n",
        "    lon = float(row['lon'])  # 경도 값 추출\n",
        "    address = row['address']  # 주소 값 추출\n",
        "    folium.Marker([lat, lon], icon=folium.Icon(icon='info-sign', color='red'), popup=address).add_to(m)\n",
        "\n",
        "# 맵 표시\n",
        "m\n"
      ],
      "metadata": {
        "id": "t2R8njjp782G"
      },
      "execution_count": null,
      "outputs": []
    },
    {
      "cell_type": "code",
      "source": [
        "import folium\n",
        "\n",
        "# 엑셀 파일에서 DataFrame 로드\n",
        "df = pd.read_excel('긴급대피장소.xlsx')\n",
        "\n",
        "# 맵 생성\n",
        "m = folium.Map(location=[36.574771602726265, 128.1882342420865], zoom_start=8) \n",
        "# 경북 상주시 함창읍 윤직리 712-1 location.\n",
        "\n",
        "# DataFrame의 각 행에 대해 맵에 마커 추가\n",
        "for index, row in df.iterrows():\n",
        "    lat = float(row['lat'])  # 위도 값 추출\n",
        "    lon = float(row['lon'])  # 경도 값 추출\n",
        "    address = row['address']  # 주소 값 추출\n",
        "    \n",
        "    # HTML 태그로 주소 텍스트를 한 줄로 포맷팅\n",
        "    popup_text = f'<div style=\"white-space: nowrap;\">{address}</div>'\n",
        "    \n",
        "    folium.Marker([lat, lon], icon=folium.Icon(icon='info-sign', color='red'), popup=popup_text).add_to(m)\n",
        "\n",
        "# 맵 표시\n",
        "m\n"
      ],
      "metadata": {
        "id": "wjNgQqVgVruF"
      },
      "execution_count": null,
      "outputs": []
    }
  ]
}